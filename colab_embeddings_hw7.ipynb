{
  "nbformat": 4,
  "nbformat_minor": 0,
  "metadata": {
    "kernelspec": {
      "display_name": "Python 3",
      "language": "python",
      "name": "python3"
    },
    "language_info": {
      "codemirror_mode": {
        "name": "ipython",
        "version": 3
      },
      "file_extension": ".py",
      "mimetype": "text/x-python",
      "name": "python",
      "nbconvert_exporter": "python",
      "pygments_lexer": "ipython3",
      "version": "3.7.1"
    },
    "colab": {
      "name": "colab_embeddings_hw7.ipynb",
      "provenance": [],
      "collapsed_sections": []
    }
  },
  "cells": [
    {
      "cell_type": "code",
      "metadata": {
        "colab": {
          "base_uri": "https://localhost:8080/"
        },
        "id": "Y9LJlg9wTgnW",
        "outputId": "f35926b1-80c4-4a34-e511-3261f2568847"
      },
      "source": [
        "!pip install razdel\r\n",
        "!pip install pymystem3==0.1.10\r\n",
        "!pip install pymorphy2"
      ],
      "execution_count": 2,
      "outputs": [
        {
          "output_type": "stream",
          "text": [
            "Collecting razdel\n",
            "  Downloading https://files.pythonhosted.org/packages/15/2c/664223a3924aa6e70479f7d37220b3a658765b9cfe760b4af7ffdc50d38f/razdel-0.5.0-py3-none-any.whl\n",
            "Installing collected packages: razdel\n",
            "Successfully installed razdel-0.5.0\n",
            "Collecting pymystem3==0.1.10\n",
            "  Downloading https://files.pythonhosted.org/packages/51/56/57e550b53587719e92330a79c7c0f555402d953b00700efae6d5ca53cdef/pymystem3-0.1.10-py3-none-any.whl\n",
            "Requirement already satisfied: requests in /usr/local/lib/python3.6/dist-packages (from pymystem3==0.1.10) (2.23.0)\n",
            "Requirement already satisfied: urllib3!=1.25.0,!=1.25.1,<1.26,>=1.21.1 in /usr/local/lib/python3.6/dist-packages (from requests->pymystem3==0.1.10) (1.24.3)\n",
            "Requirement already satisfied: idna<3,>=2.5 in /usr/local/lib/python3.6/dist-packages (from requests->pymystem3==0.1.10) (2.10)\n",
            "Requirement already satisfied: certifi>=2017.4.17 in /usr/local/lib/python3.6/dist-packages (from requests->pymystem3==0.1.10) (2020.12.5)\n",
            "Requirement already satisfied: chardet<4,>=3.0.2 in /usr/local/lib/python3.6/dist-packages (from requests->pymystem3==0.1.10) (3.0.4)\n",
            "Installing collected packages: pymystem3\n",
            "  Found existing installation: pymystem3 0.2.0\n",
            "    Uninstalling pymystem3-0.2.0:\n",
            "      Successfully uninstalled pymystem3-0.2.0\n",
            "Successfully installed pymystem3-0.1.10\n",
            "Collecting pymorphy2\n",
            "\u001b[?25l  Downloading https://files.pythonhosted.org/packages/07/57/b2ff2fae3376d4f3c697b9886b64a54b476e1a332c67eee9f88e7f1ae8c9/pymorphy2-0.9.1-py3-none-any.whl (55kB)\n",
            "\u001b[K     |████████████████████████████████| 61kB 3.1MB/s \n",
            "\u001b[?25hCollecting dawg-python>=0.7.1\n",
            "  Downloading https://files.pythonhosted.org/packages/6a/84/ff1ce2071d4c650ec85745766c0047ccc3b5036f1d03559fd46bb38b5eeb/DAWG_Python-0.7.2-py2.py3-none-any.whl\n",
            "Collecting pymorphy2-dicts-ru<3.0,>=2.4\n",
            "\u001b[?25l  Downloading https://files.pythonhosted.org/packages/3a/79/bea0021eeb7eeefde22ef9e96badf174068a2dd20264b9a378f2be1cdd9e/pymorphy2_dicts_ru-2.4.417127.4579844-py2.py3-none-any.whl (8.2MB)\n",
            "\u001b[K     |████████████████████████████████| 8.2MB 5.2MB/s \n",
            "\u001b[?25hRequirement already satisfied: docopt>=0.6 in /usr/local/lib/python3.6/dist-packages (from pymorphy2) (0.6.2)\n",
            "Installing collected packages: dawg-python, pymorphy2-dicts-ru, pymorphy2\n",
            "Successfully installed dawg-python-0.7.2 pymorphy2-0.9.1 pymorphy2-dicts-ru-2.4.417127.4579844\n"
          ],
          "name": "stdout"
        }
      ]
    },
    {
      "cell_type": "code",
      "metadata": {
        "colab": {
          "base_uri": "https://localhost:8080/"
        },
        "id": "RJLYf2HtTuHV",
        "outputId": "e3264700-2209-48ae-e9bb-8a8128dca80b"
      },
      "source": [
        "import nltk\r\n",
        "nltk.download('stopwords')"
      ],
      "execution_count": 3,
      "outputs": [
        {
          "output_type": "stream",
          "text": [
            "[nltk_data] Downloading package stopwords to /root/nltk_data...\n",
            "[nltk_data]   Unzipping corpora/stopwords.zip.\n"
          ],
          "name": "stdout"
        },
        {
          "output_type": "execute_result",
          "data": {
            "text/plain": [
              "True"
            ]
          },
          "metadata": {
            "tags": []
          },
          "execution_count": 3
        }
      ]
    },
    {
      "cell_type": "code",
      "metadata": {
        "id": "om3XpoTgTYEA"
      },
      "source": [
        "import pandas as pd\n",
        "from lxml import html\n",
        "import numpy as np\n",
        "from tqdm import tqdm\n",
        "from matplotlib import pyplot as plt\n",
        "from sklearn.decomposition import TruncatedSVD, NMF, PCA\n",
        "from sklearn.manifold import TSNE\n",
        "from sklearn.feature_extraction.text import TfidfVectorizer, CountVectorizer\n",
        "from sklearn.metrics.pairwise import cosine_distances,cosine_similarity\n",
        "from sklearn.ensemble import RandomForestClassifier\n",
        "import gensim\n",
        "import numpy as np\n",
        "from sklearn.cluster import MiniBatchKMeans\n",
        "from sklearn.linear_model import LogisticRegression\n",
        "from sklearn.model_selection import train_test_split\n",
        "from sklearn.metrics import classification_report\n",
        "from collections import Counter,defaultdict\n",
        "from string import punctuation\n",
        "from razdel import tokenize as razdel_tokenize\n",
        "import os\n",
        "from nltk.corpus import stopwords\n",
        "from pymorphy2 import MorphAnalyzer\n",
        "%matplotlib inline\n",
        "\n",
        "morph = MorphAnalyzer()\n",
        "punct = punctuation+'«»—…“”*№–'\n",
        "stops = set(stopwords.words('russian'))\n",
        "\n",
        "def normalize(text):\n",
        "    \n",
        "    words = [word.strip(punct) for word in text.lower().split()]\n",
        "    words = [morph.parse(word)[0].normal_form for word in words if word and word not in stops]\n",
        "\n",
        "    return ' '.join(words)\n",
        "\n",
        "def tokenize(text):\n",
        "    \n",
        "    \n",
        "    tokens = [token.text for token in list(razdel_tokenize(text))]\n",
        "    tokens = [token for token in tokens if token.isalnum()]\n",
        "\n",
        "    return ' '.join(tokens)\n"
      ],
      "execution_count": 55,
      "outputs": []
    },
    {
      "cell_type": "markdown",
      "metadata": {
        "id": "GXWhoiu7TYEG"
      },
      "source": [
        "Возьмите данные соревнования по определению перефразирования - http://paraphraser.ru/download/get?file_id=1\n"
      ]
    },
    {
      "cell_type": "code",
      "metadata": {
        "id": "8NOtIHBsTYEI"
      },
      "source": [
        "corpus_xml = html.fromstring(open('paraphrases.xml', 'rb').read())\n",
        "texts_1 = []\n",
        "texts_2 = []\n",
        "classes = []\n",
        "\n",
        "for p in corpus_xml.xpath('//paraphrase'):\n",
        "    texts_1.append(p.xpath('./value[@name=\"text_1\"]/text()')[0])\n",
        "    texts_2.append(p.xpath('./value[@name=\"text_2\"]/text()')[0])\n",
        "    classes.append(p.xpath('./value[@name=\"class\"]/text()')[0])\n",
        "    \n",
        "data = pd.DataFrame({'text_1':texts_1, 'text_2':texts_2, 'label':classes})"
      ],
      "execution_count": 6,
      "outputs": []
    },
    {
      "cell_type": "code",
      "metadata": {
        "id": "gU9-jLp8TYEJ"
      },
      "source": [
        "data['text_1_norm'] = data['text_1'].apply(normalize)\n",
        "data['text_2_norm'] = data['text_2'].apply(normalize)"
      ],
      "execution_count": 7,
      "outputs": []
    },
    {
      "cell_type": "code",
      "metadata": {
        "colab": {
          "base_uri": "https://localhost:8080/",
          "height": 176
        },
        "id": "3DlApfW0TYEK",
        "outputId": "2a06206e-9e3b-42f3-b558-d3dd36819964"
      },
      "source": [
        "data.head(2)"
      ],
      "execution_count": 8,
      "outputs": [
        {
          "output_type": "execute_result",
          "data": {
            "text/html": [
              "<div>\n",
              "<style scoped>\n",
              "    .dataframe tbody tr th:only-of-type {\n",
              "        vertical-align: middle;\n",
              "    }\n",
              "\n",
              "    .dataframe tbody tr th {\n",
              "        vertical-align: top;\n",
              "    }\n",
              "\n",
              "    .dataframe thead th {\n",
              "        text-align: right;\n",
              "    }\n",
              "</style>\n",
              "<table border=\"1\" class=\"dataframe\">\n",
              "  <thead>\n",
              "    <tr style=\"text-align: right;\">\n",
              "      <th></th>\n",
              "      <th>text_1</th>\n",
              "      <th>text_2</th>\n",
              "      <th>label</th>\n",
              "      <th>text_1_norm</th>\n",
              "      <th>text_2_norm</th>\n",
              "    </tr>\n",
              "  </thead>\n",
              "  <tbody>\n",
              "    <tr>\n",
              "      <th>0</th>\n",
              "      <td>Полицейским разрешат стрелять на поражение по ...</td>\n",
              "      <td>Полиции могут разрешить стрелять по хулиганам ...</td>\n",
              "      <td>0</td>\n",
              "      <td>полицейский разрешить стрелять поражение гражд...</td>\n",
              "      <td>полиция мочь разрешить стрелять хулиган травма...</td>\n",
              "    </tr>\n",
              "    <tr>\n",
              "      <th>1</th>\n",
              "      <td>Право полицейских на проникновение в жилище ре...</td>\n",
              "      <td>Правила внесудебного проникновения полицейских...</td>\n",
              "      <td>0</td>\n",
              "      <td>право полицейский проникновение жилище решить ...</td>\n",
              "      <td>правило внесудебный проникновение полицейский ...</td>\n",
              "    </tr>\n",
              "  </tbody>\n",
              "</table>\n",
              "</div>"
            ],
            "text/plain": [
              "                                              text_1  ...                                        text_2_norm\n",
              "0  Полицейским разрешат стрелять на поражение по ...  ...  полиция мочь разрешить стрелять хулиган травма...\n",
              "1  Право полицейских на проникновение в жилище ре...  ...  правило внесудебный проникновение полицейский ...\n",
              "\n",
              "[2 rows x 5 columns]"
            ]
          },
          "metadata": {
            "tags": []
          },
          "execution_count": 8
        }
      ]
    },
    {
      "cell_type": "markdown",
      "metadata": {
        "id": "yZpNQpFXTYEM"
      },
      "source": [
        "### 1) Векторизуйте тексты с помощью Word2vec модели, обученной самостоятельно, и с помощью модели, взятой с rusvectores (например вот этой - http://vectors.nlpl.eu/repository/20/180.zip). Обучите 2 модели по определению перефразирования на получившихся векторах и проверьте, что работает лучше.  Word2Vec нужно обучить на отдельном корпусе (не на парафразах). Можно взять данные из семинара или любые другие. \n",
        "!!!! ВАЖНО: Оценивать модели нужно с помощью кросс-валидации (в семинаре не кросс-валидация)! Метрика - f1."
      ]
    },
    {
      "cell_type": "markdown",
      "metadata": {
        "id": "mVDHhq_gTYEM"
      },
      "source": [
        "Сначала векторизую тексты с помощью модели, взятой с rusvectores"
      ]
    },
    {
      "cell_type": "code",
      "metadata": {
        "id": "LnV07LSgTYEN"
      },
      "source": [
        "# я скачал вот эту tayga_upos_skipgram_300_2_2019 \n",
        "# и распаковал архив в папку taiga_w2v_model\n",
        "pretrained_model = gensim.models.KeyedVectors.load_word2vec_format('model.bin', binary=True)"
      ],
      "execution_count": 9,
      "outputs": []
    },
    {
      "cell_type": "code",
      "metadata": {
        "colab": {
          "base_uri": "https://localhost:8080/"
        },
        "id": "PX5bNIUlTYEP",
        "outputId": "e721649e-3760-434c-eeeb-55a58b0947e0"
      },
      "source": [
        "pretrained_model.most_similar('февраль_NOUN')"
      ],
      "execution_count": 11,
      "outputs": [
        {
          "output_type": "execute_result",
          "data": {
            "text/plain": [
              "[('март_NOUN', 0.9567033052444458),\n",
              " ('ноябрь_NOUN', 0.9523458480834961),\n",
              " ('декабрь_NOUN', 0.9509049654006958),\n",
              " ('апрель_NOUN', 0.949961245059967),\n",
              " ('январь_NOUN', 0.9472224712371826),\n",
              " ('октябрь_NOUN', 0.937659740447998),\n",
              " ('май_NOUN', 0.911928117275238),\n",
              " ('июнь_NOUN', 0.9011650681495667),\n",
              " ('сентябрь_NOUN', 0.899361252784729),\n",
              " ('июль_NOUN', 0.8842827677726746)]"
            ]
          },
          "metadata": {
            "tags": []
          },
          "execution_count": 11
        }
      ]
    },
    {
      "cell_type": "code",
      "metadata": {
        "colab": {
          "base_uri": "https://localhost:8080/"
        },
        "id": "BhlvL4OGTYEQ",
        "outputId": "5c82b73b-f35d-4d8d-9df7-91e5bb6f5abb"
      },
      "source": [
        "pretrained_model['февраль_NOUN']"
      ],
      "execution_count": null,
      "outputs": [
        {
          "output_type": "execute_result",
          "data": {
            "text/plain": [
              "array([ 1.1175872 , -0.22391573,  0.26121503,  0.5476575 ,  0.4481181 ,\n",
              "       -2.5978436 , -1.7889471 , -0.6384107 , -0.67093   ,  2.4802933 ,\n",
              "        2.117143  , -1.3266108 ,  0.31270227,  0.5332246 ,  0.6650178 ,\n",
              "        1.5548006 ,  0.60715556, -1.5675337 , -0.23513682,  1.385819  ,\n",
              "        1.2787511 , -0.22822474, -1.7990361 ,  0.39526033,  3.1919844 ,\n",
              "        1.2292011 , -0.2563182 , -2.0753202 ,  1.7657851 , -2.6380384 ,\n",
              "       -0.95919466,  2.082978  , -2.1801145 ,  0.53563577,  0.15313669,\n",
              "        0.6777143 , -1.0395736 , -0.9430891 , -0.06782475,  0.07165208,\n",
              "       -0.18129124, -2.1773202 , -2.1549945 ,  1.1223803 , -0.42965412,\n",
              "       -1.9258459 , -0.22182733,  0.58437455,  2.0041013 ,  1.1258847 ,\n",
              "       -0.9572228 , -2.8164334 ,  0.5447553 ,  0.07482819, -0.90745836,\n",
              "        0.63984466,  1.1124053 ,  0.5535299 ,  0.42505392, -0.6870758 ,\n",
              "       -1.325869  ,  2.324493  , -3.023114  , -2.581385  , -0.32977122,\n",
              "        0.5953271 ,  1.1331176 ,  1.9554996 , -4.1206326 ,  0.15034747,\n",
              "       -1.5578221 , -1.1144613 ,  0.37263912,  0.00512519, -0.4570068 ,\n",
              "       -1.2190894 , -0.78932315,  1.8333863 ,  3.05693   , -1.5353572 ,\n",
              "        0.63776934,  4.2372484 , -2.0866795 , -1.0881987 ,  1.279714  ,\n",
              "        2.2031121 , -0.45606354,  3.0311458 , -1.5881822 , -1.2321751 ,\n",
              "        2.051514  ,  0.37902412, -0.81032944, -0.8970723 ,  1.8388225 ,\n",
              "        1.6187279 , -3.4080384 , -0.18741241, -0.36806133,  0.14849028,\n",
              "       -3.4057195 ,  1.3706994 ,  0.43542024,  0.19950172, -0.09555739,\n",
              "       -0.28604567,  4.046322  ,  0.398464  , -1.2445811 ,  2.5038562 ,\n",
              "       -3.0833068 ,  0.3293776 ,  0.6101343 ,  1.5711384 , -1.4765897 ,\n",
              "        0.5995563 ,  0.30857775,  0.33837825,  1.3891459 ,  0.350576  ,\n",
              "       -3.9169142 , -1.458134  , -0.9439681 , -0.49826342, -0.7064412 ,\n",
              "       -1.8810246 , -0.6518302 , -0.38336623, -1.4807799 , -1.5047994 ,\n",
              "       -0.71510935, -0.1183027 , -0.6504266 , -2.9710429 ,  0.5315482 ,\n",
              "       -1.9341025 ,  0.9497469 ,  0.621768  ,  3.2840474 , -1.480293  ,\n",
              "        2.3825676 , -1.7335373 ,  1.7112354 ,  2.3600125 , -0.5425896 ,\n",
              "        0.9679212 , -0.35483295, -0.9215068 ,  2.742107  , -1.2242478 ,\n",
              "       -0.7391165 ,  2.0990393 ,  0.0162256 , -2.4750116 ,  2.0142124 ,\n",
              "       -0.6062143 ,  0.4492832 , -0.46668863,  0.22502343, -0.1014052 ,\n",
              "        0.02717796, -2.9621358 , -0.40184462, -1.048713  ,  0.15414548,\n",
              "        1.6856118 , -1.5537455 ,  0.2292025 ,  1.9595807 , -0.55277896,\n",
              "        1.4501548 , -0.0745323 ,  1.2582994 , -0.13862263,  0.09356343,\n",
              "        0.5223004 , -1.813628  ,  0.76448995,  0.48086956,  0.4518176 ,\n",
              "       -1.0143541 ,  0.06279238,  0.7876027 , -1.5760406 ,  0.6750082 ,\n",
              "        2.0298963 , -0.49557775,  0.31153566, -4.0960464 , -0.33016893,\n",
              "        0.25381437,  0.4256077 ,  1.6180815 ,  1.2224445 , -2.2096114 ,\n",
              "        1.9206024 , -2.0921876 , -1.6394578 , -1.2366372 , -0.90892464,\n",
              "       -1.7824041 , -1.502495  ,  0.16619392, -0.2512311 ,  2.3881485 ,\n",
              "       -3.7736392 ,  2.2643127 , -1.908228  ,  2.6135046 , -1.6999    ,\n",
              "       -0.17285068,  2.4122617 ,  1.2109362 ,  2.1110964 ,  0.18315947,\n",
              "        0.36057025,  0.061665  ,  1.414745  ,  1.2398466 , -1.9888937 ,\n",
              "        1.2339015 , -3.1634517 , -1.4250493 , -0.27302644, -0.21087563,\n",
              "        0.01534186,  0.24948436, -0.33670738, -1.4181169 ,  2.0110471 ,\n",
              "        1.420162  , -0.6806649 ,  1.4455811 , -0.2065182 ,  2.2669883 ,\n",
              "        0.7805599 , -0.38055986,  0.69185984,  0.9450707 , -3.768282  ,\n",
              "       -1.1403083 , -1.5128186 , -1.0849671 ,  2.922123  ,  1.6415644 ,\n",
              "        1.4175707 , -0.9225189 , -1.8634655 , -1.5475978 ,  1.7510344 ,\n",
              "       -0.16829775, -0.6918347 , -1.4535726 , -2.133285  , -3.2464585 ,\n",
              "       -0.3485698 , -0.3441522 ,  0.7354724 , -2.9131846 , -0.20443416,\n",
              "        2.1745164 , -2.286639  , -1.7334166 ,  0.19400737,  2.617484  ,\n",
              "       -2.9220417 ,  0.29376468,  1.2224715 , -0.9876645 , -2.5625732 ,\n",
              "       -0.19201022, -1.1755543 ,  0.6785089 , -1.3672816 ,  1.5698617 ,\n",
              "        1.4883925 , -0.8746424 ,  0.51217824, -2.4828775 , -1.3800995 ,\n",
              "        1.4745209 ,  1.4768928 , -1.9538096 ,  1.467086  ,  0.97687167,\n",
              "       -1.189849  , -2.1988668 , -1.4041663 , -0.6417014 ,  0.11885237,\n",
              "       -1.6943338 ,  1.0383213 ,  0.37913495,  0.43179703,  1.4346235 ,\n",
              "       -0.18303007,  0.5074761 , -1.2029341 , -2.0304043 , -1.7225281 ],\n",
              "      dtype=float32)"
            ]
          },
          "metadata": {
            "tags": []
          },
          "execution_count": 9
        }
      ]
    },
    {
      "cell_type": "code",
      "metadata": {
        "id": "Pi_2Q4UWTYEQ"
      },
      "source": [
        "mapping = {}\n",
        "\n",
        "for line in open('ru-rnc.map.txt'):\n",
        "    ms, ud = line.strip('\\n').split()\n",
        "    mapping[ms] = ud"
      ],
      "execution_count": 10,
      "outputs": []
    },
    {
      "cell_type": "code",
      "metadata": {
        "colab": {
          "base_uri": "https://localhost:8080/"
        },
        "id": "4LOHxjVdTYER",
        "outputId": "3b8b701b-2a71-4e72-cce7-b04a3c178828"
      },
      "source": [
        "mapping"
      ],
      "execution_count": 11,
      "outputs": [
        {
          "output_type": "execute_result",
          "data": {
            "text/plain": [
              "{'A': 'ADJ',\n",
              " 'ADV': 'ADV',\n",
              " 'ADVPRO': 'ADV',\n",
              " 'ANUM': 'ADJ',\n",
              " 'APRO': 'DET',\n",
              " 'COM': 'ADJ',\n",
              " 'CONJ': 'SCONJ',\n",
              " 'INTJ': 'INTJ',\n",
              " 'NONLEX': 'X',\n",
              " 'NUM': 'NUM',\n",
              " 'PART': 'PART',\n",
              " 'PR': 'ADP',\n",
              " 'S': 'NOUN',\n",
              " 'SPRO': 'PRON',\n",
              " 'UNKN': 'X',\n",
              " 'V': 'VERB'}"
            ]
          },
          "metadata": {
            "tags": []
          },
          "execution_count": 11
        }
      ]
    },
    {
      "cell_type": "code",
      "metadata": {
        "id": "VblFB12IZdri",
        "colab": {
          "base_uri": "https://localhost:8080/"
        },
        "outputId": "18372c4a-795d-41eb-b620-957b8933a43c"
      },
      "source": [
        "from pymystem3 import Mystem\r\n",
        "m = Mystem()"
      ],
      "execution_count": 12,
      "outputs": [
        {
          "output_type": "stream",
          "text": [
            "Installing mystem to /root/.local/bin/mystem from http://download.cdn.yandex.net/mystem/mystem-3.0-linux3.1-64bit.tar.gz\n"
          ],
          "name": "stderr"
        }
      ]
    },
    {
      "cell_type": "code",
      "metadata": {
        "id": "0u8p35RhTYES"
      },
      "source": [
        "from tqdm import tqdm\n",
        "def normalize_mystem(text):\n",
        "    tokens = []\n",
        "    norm_words = m.analyze(text)\n",
        "    for norm_word in norm_words:\n",
        "        if 'analysis' not in norm_word:\n",
        "            continue\n",
        "            \n",
        "        if not len(norm_word['analysis']):\n",
        "            lemma = norm_word['text']\n",
        "            pos = 'UNKN'\n",
        "        else:\n",
        "            lemma = norm_word[\"analysis\"][0][\"lex\"].lower().strip()\n",
        "            pos = norm_word[\"analysis\"][0][\"gr\"].split(',')[0]\n",
        "            pos = pos.split('=')[0].strip()\n",
        "        pos = mapping[pos]\n",
        "        tokens.append(lemma+'_'+pos)\n",
        "\n",
        "    return tokens"
      ],
      "execution_count": 13,
      "outputs": []
    },
    {
      "cell_type": "code",
      "metadata": {
        "colab": {
          "base_uri": "https://localhost:8080/"
        },
        "id": "ij888__tTYET",
        "outputId": "118a4e09-2f84-4c98-88e3-b83ff5907957"
      },
      "source": [
        "# test\n",
        "normalize_mystem('Обучить классификатор парафразов на предобученной модели вам нужно будет дома')"
      ],
      "execution_count": 14,
      "outputs": [
        {
          "output_type": "execute_result",
          "data": {
            "text/plain": [
              "['обучать_VERB',\n",
              " 'классификатор_NOUN',\n",
              " 'парафраз_NOUN',\n",
              " 'на_ADP',\n",
              " 'предобученный_ADJ',\n",
              " 'модель_NOUN',\n",
              " 'вы_PRON',\n",
              " 'нужно_ADV',\n",
              " 'быть_VERB',\n",
              " 'дома_ADV']"
            ]
          },
          "metadata": {
            "tags": []
          },
          "execution_count": 14
        }
      ]
    },
    {
      "cell_type": "code",
      "metadata": {
        "id": "r9lLQuF0TYEU"
      },
      "source": [
        "def get_embedding(text, model, dim):\n",
        "    # uncomment if type(text) is string\n",
        "    #text = text.split()\n",
        "    \n",
        "    # чтобы не доставать одно слово несколько раз\n",
        "    # сделаем счетчик, а потом векторы домножим на частоту\n",
        "    words = Counter(text)\n",
        "    total = len(text)\n",
        "    vectors = np.zeros((len(words), dim))\n",
        "    \n",
        "    for i,word in enumerate(words):\n",
        "        try:\n",
        "            v = model[word]\n",
        "            vectors[i] = v*(words[word]/total) # просто умножаем вектор на частоту\n",
        "        except (KeyError, ValueError):\n",
        "            continue\n",
        "    \n",
        "    if vectors.any():\n",
        "        vector = np.average(vectors, axis=0)\n",
        "    else:\n",
        "        vector = np.zeros((dim))\n",
        "    \n",
        "    return vector"
      ],
      "execution_count": 15,
      "outputs": []
    },
    {
      "cell_type": "code",
      "metadata": {
        "id": "61NZM2eETYEV",
        "colab": {
          "base_uri": "https://localhost:8080/"
        },
        "outputId": "df5ec2d7-85a4-4d4e-f181-e8eb8726e045"
      },
      "source": [
        "from tqdm import tqdm\n",
        "dim = 300  # как в модели tayga_upos_skipgram_300_2_2019\n",
        "X_text_1_w2v = np.zeros((len(data['text_1_norm']), dim))\n",
        "X_text_2_w2v = np.zeros((len(data['text_2_norm']), dim))\n",
        "\n",
        "for i, text in enumerate(tqdm(data['text_1_norm'].values)):\n",
        "    X_text_1_w2v[i] = get_embedding(normalize_mystem(text), pretrained_model, dim)"
      ],
      "execution_count": 16,
      "outputs": [
        {
          "output_type": "stream",
          "text": [
            "100%|██████████| 7227/7227 [00:03<00:00, 2334.20it/s]\n"
          ],
          "name": "stderr"
        }
      ]
    },
    {
      "cell_type": "code",
      "metadata": {
        "id": "ObRUdIQcTYEX",
        "colab": {
          "base_uri": "https://localhost:8080/"
        },
        "outputId": "2f06b337-a090-4b50-dcbe-b789d26a391d"
      },
      "source": [
        "for i, text in enumerate(tqdm(data['text_2_norm'].values)):\n",
        "    X_text_2_w2v[i] = get_embedding(normalize_mystem(text), pretrained_model, dim)"
      ],
      "execution_count": 17,
      "outputs": [
        {
          "output_type": "stream",
          "text": [
            "100%|██████████| 7227/7227 [00:02<00:00, 2462.85it/s]\n"
          ],
          "name": "stderr"
        }
      ]
    },
    {
      "cell_type": "code",
      "metadata": {
        "id": "_-Tt6dzGTYEX"
      },
      "source": [
        "X_text_w2v = np.concatenate([X_text_1_w2v, X_text_2_w2v], axis=1)"
      ],
      "execution_count": 18,
      "outputs": []
    },
    {
      "cell_type": "code",
      "metadata": {
        "id": "O5UIuRf0TYEY"
      },
      "source": [
        "# cross_val - это функция, в которую можно подать\n",
        "# все данные, классификатор, а остальное она сделаем сама.\n",
        "from sklearn.model_selection import cross_val_score"
      ],
      "execution_count": 19,
      "outputs": []
    },
    {
      "cell_type": "code",
      "metadata": {
        "id": "hKqQ_pQbTYEZ"
      },
      "source": [
        "y = np.array(data.label)\n",
        "clf_onpretrained = RandomForestClassifier(n_estimators=100, max_depth=7, min_samples_leaf=15,\n",
        "                                          class_weight='balanced')"
      ],
      "execution_count": 27,
      "outputs": []
    },
    {
      "cell_type": "code",
      "metadata": {
        "id": "wRmylE5VTYEZ",
        "colab": {
          "base_uri": "https://localhost:8080/"
        },
        "outputId": "1dce35a0-25dc-4575-dbb8-6943bbeca70b"
      },
      "source": [
        "cross_val_score(clf_onpretrained, X_text_w2v, y, scoring=\"f1_micro\")"
      ],
      "execution_count": 25,
      "outputs": [
        {
          "output_type": "execute_result",
          "data": {
            "text/plain": [
              "array([0.44467497, 0.48340249, 0.5100346 , 0.34256055, 0.37370242])"
            ]
          },
          "metadata": {
            "tags": []
          },
          "execution_count": 25
        }
      ]
    },
    {
      "cell_type": "markdown",
      "metadata": {
        "id": "6OuHn9FKTYEa"
      },
      "source": [
        "Теперь обучим модель, на текстах векторизованных с помощью самостоятельно обученного w2v"
      ]
    },
    {
      "cell_type": "code",
      "metadata": {
        "id": "RHDIR619TYEb"
      },
      "source": [
        "data_wiki = open('wiki_data.txt', encoding='utf-8').read().splitlines()"
      ],
      "execution_count": 20,
      "outputs": []
    },
    {
      "cell_type": "code",
      "metadata": {
        "id": "NNmbLbrfTYEc",
        "colab": {
          "base_uri": "https://localhost:8080/"
        },
        "outputId": "8f7f301a-2a89-4bfb-b013-52c74fe56cb2"
      },
      "source": [
        "data_wiki_norm = [normalize(tokenize(text)) for text in tqdm(data_wiki)]"
      ],
      "execution_count": 21,
      "outputs": [
        {
          "output_type": "stream",
          "text": [
            "100%|██████████| 20002/20002 [13:06<00:00, 25.44it/s]\n"
          ],
          "name": "stderr"
        }
      ]
    },
    {
      "cell_type": "code",
      "metadata": {
        "id": "hJ5eeJtBTYEc",
        "colab": {
          "base_uri": "https://localhost:8080/"
        },
        "outputId": "740e5f28-12ff-46af-fe13-b9af8e6ae4d0"
      },
      "source": [
        "data_wiki_norm = [text for text in tqdm(data_wiki_norm) if text]"
      ],
      "execution_count": 22,
      "outputs": [
        {
          "output_type": "stream",
          "text": [
            "100%|██████████| 20002/20002 [00:00<00:00, 1244983.66it/s]\n"
          ],
          "name": "stderr"
        }
      ]
    },
    {
      "cell_type": "code",
      "metadata": {
        "colab": {
          "base_uri": "https://localhost:8080/"
        },
        "id": "FwLABSNMp32w",
        "outputId": "024c38ca-ba6a-4671-e808-648537ff8e19"
      },
      "source": [
        "data_wiki_norm[:2]"
      ],
      "execution_count": 23,
      "outputs": [
        {
          "output_type": "execute_result",
          "data": {
            "text/plain": [
              "['новостройка нижегородский область сельский посёлок дивеевский район нижегородский область входить состав сатисский сельсовет посёлок расположить км юг село дивеево 1 км запад город саров право берег река вичкинза правый приток река сатис окружить смешанный лес соединить асфальтовый дорога посёлок цыгановка км грунтовый просёлочный дорога посёлок сатис км название новостройка являться сугубо официальный местный население использовать исключительно альтернативный название хитрый употребляться языковой оборот хитрый ранее использовать название песчаный известковый основать год переселенец соседний село аламасовый нарышкино расположить соответственно 8 14 км запад вознесенский район традиционно посёлок жить рабочий совхоз вперёд центр посёлок сатис возле посёлок расположить карьер активно добывать доломитовый мука бутовый камень настоящий время официально закрытый данные 1978 год посёлок новостройка характеризоваться неперспективный насчитываться 24 хозяйство 43 житель водоснабжение осуществляться колодец родниковый учреждение соцкультбыт отсутствовать 1992 год посёлок насчитываться 7 хозяйство 16 житель который 7 трудоспособный возраст 1 январь 1995 год посёлок иметься 6 хозяйство 12 житель настоящий время посёлок оставаться жилой получить развитие благодаря свой близость святой источник полкилометра расположить казанский родник км источник святой серафим саровский посёлок расположить скит дивеевский монастырь 2012 год освятить домовой храм честь серафим саровский',\n",
              " 'эсмеральда фильм 1905 эсмеральда немой короткометражный драматический фильм режиссёр алиса викторить жасс фильм снятой роман виктор гюго премьера состояться франция 1905 год фильм считаться самый первый фильм снятой роман собор парижский богоматерь фильм рассказывать жизнь цыганский красавица эсмеральда горбун квазимодо звонарь собор парижский богоматерь']"
            ]
          },
          "metadata": {
            "tags": []
          },
          "execution_count": 23
        }
      ]
    },
    {
      "cell_type": "code",
      "metadata": {
        "id": "QZ-bq2tup35S"
      },
      "source": [
        "w2v = gensim.models.Word2Vec([text.split() for text in data_wiki_norm], size=50, sg=1)"
      ],
      "execution_count": 24,
      "outputs": []
    },
    {
      "cell_type": "code",
      "metadata": {
        "colab": {
          "base_uri": "https://localhost:8080/"
        },
        "id": "PbtUGCr1p39T",
        "outputId": "ae576787-7490-47d9-bd85-6a02c43109d6"
      },
      "source": [
        "w2v.most_similar('язык')"
      ],
      "execution_count": 32,
      "outputs": [
        {
          "output_type": "stream",
          "text": [
            "/usr/local/lib/python3.6/dist-packages/ipykernel_launcher.py:1: DeprecationWarning: Call to deprecated `most_similar` (Method will be removed in 4.0.0, use self.wv.most_similar() instead).\n",
            "  \"\"\"Entry point for launching an IPython kernel.\n"
          ],
          "name": "stderr"
        },
        {
          "output_type": "execute_result",
          "data": {
            "text/plain": [
              "[('кантонский', 0.8646734952926636),\n",
              " ('диалект', 0.8405657410621643),\n",
              " ('восточноломбардский', 0.8163689970970154),\n",
              " ('гвичин', 0.8134534358978271),\n",
              " ('ломбардский', 0.806578516960144),\n",
              " ('атабаскский', 0.7999407052993774),\n",
              " ('ден', 0.7876827716827393),\n",
              " ('северносаамский', 0.7874000668525696),\n",
              " ('кириллица', 0.7829358577728271),\n",
              " ('славяносербский', 0.7816162109375)]"
            ]
          },
          "metadata": {
            "tags": []
          },
          "execution_count": 32
        }
      ]
    },
    {
      "cell_type": "code",
      "metadata": {
        "id": "sUJl57tWp_Ce"
      },
      "source": [
        "def get_embedding_split(text, model, dim):\r\n",
        "    text = text.split()\r\n",
        "    \r\n",
        "    # чтобы не доставать одно слово несколько раз\r\n",
        "    # сделаем счетчик, а потом векторы домножим на частоту\r\n",
        "    words = Counter(text)\r\n",
        "    total = len(text)\r\n",
        "    vectors = np.zeros((len(words), dim))\r\n",
        "    \r\n",
        "    for i,word in enumerate(words):\r\n",
        "        try:\r\n",
        "            v = model[word]\r\n",
        "            vectors[i] = v*(words[word]/total) # просто умножаем вектор на частоту\r\n",
        "        except (KeyError, ValueError):\r\n",
        "            continue\r\n",
        "    \r\n",
        "    if vectors.any():\r\n",
        "        vector = np.average(vectors, axis=0)\r\n",
        "    else:\r\n",
        "        vector = np.zeros((dim))\r\n",
        "    \r\n",
        "    return vector"
      ],
      "execution_count": 25,
      "outputs": []
    },
    {
      "cell_type": "code",
      "metadata": {
        "colab": {
          "base_uri": "https://localhost:8080/"
        },
        "id": "fu2fIynrp_E4",
        "outputId": "ff2e866a-a80d-44da-ede8-f593f005f3a6"
      },
      "source": [
        "from tqdm import tqdm\r\n",
        "dim = 50 \r\n",
        "X_text_1_w2v_my = np.zeros((len(data['text_1_norm']), dim))\r\n",
        "X_text_2_w2v_my = np.zeros((len(data['text_2_norm']), dim))\r\n",
        "\r\n",
        "for i, text in enumerate(data['text_1_norm'].values):\r\n",
        "    X_text_1_w2v_my[i] = get_embedding_split(text, w2v, dim)\r\n",
        "    \r\n",
        "for i, text in enumerate(data['text_2_norm'].values):\r\n",
        "    X_text_2_w2v_my[i] = get_embedding_split(text, w2v, dim)"
      ],
      "execution_count": 84,
      "outputs": [
        {
          "output_type": "stream",
          "text": [
            "/usr/local/lib/python3.6/dist-packages/ipykernel_launcher.py:12: DeprecationWarning: Call to deprecated `__getitem__` (Method will be removed in 4.0.0, use self.wv.__getitem__() instead).\n",
            "  if sys.path[0] == '':\n"
          ],
          "name": "stderr"
        }
      ]
    },
    {
      "cell_type": "code",
      "metadata": {
        "id": "dudlDr6hp_HX"
      },
      "source": [
        "X_text_w2v_my = np.concatenate([X_text_1_w2v_my, X_text_2_w2v_my], axis=1)"
      ],
      "execution_count": 86,
      "outputs": []
    },
    {
      "cell_type": "code",
      "metadata": {
        "id": "0GCoPMrxp_L8"
      },
      "source": [
        "y = np.array(data.label)\r\n",
        "clf_onmine = RandomForestClassifier(n_estimators=100, max_depth=7, min_samples_leaf=15,\r\n",
        "                                    class_weight='balanced')"
      ],
      "execution_count": 87,
      "outputs": []
    },
    {
      "cell_type": "code",
      "metadata": {
        "colab": {
          "base_uri": "https://localhost:8080/"
        },
        "id": "-T9LYlqWp_ON",
        "outputId": "a9b20b47-cba4-436c-9e2d-b3ea0e6429ac"
      },
      "source": [
        "cross_val_score(clf_onmine, X_text_w2v_my, y, scoring=\"f1_micro\", cv=3)"
      ],
      "execution_count": 90,
      "outputs": [
        {
          "output_type": "execute_result",
          "data": {
            "text/plain": [
              "array([0.46450809, 0.4898298 , 0.38273142])"
            ]
          },
          "metadata": {
            "tags": []
          },
          "execution_count": 90
        }
      ]
    },
    {
      "cell_type": "code",
      "metadata": {
        "colab": {
          "base_uri": "https://localhost:8080/"
        },
        "id": "7DC7j7CVp_eL",
        "outputId": "347f61f6-531c-4682-bf23-7a226b5c52ea"
      },
      "source": [
        "cross_val_score(clf_onpretrained, X_text_w2v, y, scoring=\"f1_micro\", cv=3)"
      ],
      "execution_count": 91,
      "outputs": [
        {
          "output_type": "execute_result",
          "data": {
            "text/plain": [
              "array([0.44458281, 0.49024491, 0.39726027])"
            ]
          },
          "metadata": {
            "tags": []
          },
          "execution_count": 91
        }
      ]
    },
    {
      "cell_type": "markdown",
      "metadata": {
        "id": "Um3SkJS5rZl8"
      },
      "source": [
        "На pretrained модели из rusvectores получилось получше в среднем, чем на той, где w2v я делала свой. **UPD:** я еще несколько раз прогнала, поэкспериментировала с количеством сплитов в cv и поняла, что на самом деле примерно одинаково получается"
      ]
    },
    {
      "cell_type": "markdown",
      "metadata": {
        "id": "AaM8w8jzuo-T"
      },
      "source": [
        "### 2) Преобразуйте тексты в векторы в каждой паре 5 методами  - SVD, NMF, Word2Vec (свой и  русвекторовский), Fastext. У вас должно получиться 5 пар векторов для каждой строчки в датасете. Между векторами каждой пары вычислите косинусную близость (получится 5 чисел для каждой пары). "
      ]
    },
    {
      "cell_type": "code",
      "metadata": {
        "colab": {
          "base_uri": "https://localhost:8080/"
        },
        "id": "phLOnmWOvf7P",
        "outputId": "555ad4d4-4eac-4b2c-f3ad-ed4dfcfe223d"
      },
      "source": [
        "X_text_1_w2v_my.shape"
      ],
      "execution_count": 92,
      "outputs": [
        {
          "output_type": "execute_result",
          "data": {
            "text/plain": [
              "(7227, 50)"
            ]
          },
          "metadata": {
            "tags": []
          },
          "execution_count": 92
        }
      ]
    },
    {
      "cell_type": "code",
      "metadata": {
        "colab": {
          "base_uri": "https://localhost:8080/"
        },
        "id": "MEPZiufQvh9O",
        "outputId": "adb38546-693f-4521-bd6e-746e734db3d0"
      },
      "source": [
        "data.shape"
      ],
      "execution_count": 93,
      "outputs": [
        {
          "output_type": "execute_result",
          "data": {
            "text/plain": [
              "(7227, 7)"
            ]
          },
          "metadata": {
            "tags": []
          },
          "execution_count": 93
        }
      ]
    },
    {
      "cell_type": "code",
      "metadata": {
        "id": "0rz1TcBn-DnA"
      },
      "source": [
        "my_w2v_cos = [cosine_similarity([v1], [v2])[0][0] for v1, v2 in zip(X_text_1_w2v_my, X_text_2_w2v_my)]"
      ],
      "execution_count": 94,
      "outputs": []
    },
    {
      "cell_type": "code",
      "metadata": {
        "colab": {
          "base_uri": "https://localhost:8080/"
        },
        "id": "RcSrlrphOS8E",
        "outputId": "b27f1209-80c1-4b56-cd01-9c698362bf2a"
      },
      "source": [
        "pretrain_w2v_cos = [cosine_similarity([v1], [v2])[0][0] for v1, v2 in zip(X_text_1_w2v, X_text_2_w2v)]\r\n",
        "len(pretrain_w2v_cos)"
      ],
      "execution_count": 95,
      "outputs": [
        {
          "output_type": "execute_result",
          "data": {
            "text/plain": [
              "7227"
            ]
          },
          "metadata": {
            "tags": []
          },
          "execution_count": 95
        }
      ]
    },
    {
      "cell_type": "code",
      "metadata": {
        "id": "DLschD4CrTSr"
      },
      "source": [
        "data['my_w2v_cos'] = my_w2v_cos\r\n",
        "data['pretrain_w2v_cos'] = pretrain_w2v_cos"
      ],
      "execution_count": 96,
      "outputs": []
    },
    {
      "cell_type": "code",
      "metadata": {
        "colab": {
          "base_uri": "https://localhost:8080/",
          "height": 264
        },
        "id": "DMbnfmLkrTP3",
        "outputId": "5144f5f9-bc5a-4771-8005-89034ffacddf"
      },
      "source": [
        "data.head(2)"
      ],
      "execution_count": 98,
      "outputs": [
        {
          "output_type": "execute_result",
          "data": {
            "text/html": [
              "<div>\n",
              "<style scoped>\n",
              "    .dataframe tbody tr th:only-of-type {\n",
              "        vertical-align: middle;\n",
              "    }\n",
              "\n",
              "    .dataframe tbody tr th {\n",
              "        vertical-align: top;\n",
              "    }\n",
              "\n",
              "    .dataframe thead th {\n",
              "        text-align: right;\n",
              "    }\n",
              "</style>\n",
              "<table border=\"1\" class=\"dataframe\">\n",
              "  <thead>\n",
              "    <tr style=\"text-align: right;\">\n",
              "      <th></th>\n",
              "      <th>text_1</th>\n",
              "      <th>text_2</th>\n",
              "      <th>label</th>\n",
              "      <th>text_1_norm</th>\n",
              "      <th>text_2_norm</th>\n",
              "      <th>my_w2v_cos</th>\n",
              "      <th>pretrain_w2v_cos</th>\n",
              "    </tr>\n",
              "  </thead>\n",
              "  <tbody>\n",
              "    <tr>\n",
              "      <th>0</th>\n",
              "      <td>Полицейским разрешат стрелять на поражение по ...</td>\n",
              "      <td>Полиции могут разрешить стрелять по хулиганам ...</td>\n",
              "      <td>0</td>\n",
              "      <td>полицейский разрешить стрелять поражение гражд...</td>\n",
              "      <td>полиция мочь разрешить стрелять хулиган травма...</td>\n",
              "      <td>0.909174</td>\n",
              "      <td>0.684432</td>\n",
              "    </tr>\n",
              "    <tr>\n",
              "      <th>1</th>\n",
              "      <td>Право полицейских на проникновение в жилище ре...</td>\n",
              "      <td>Правила внесудебного проникновения полицейских...</td>\n",
              "      <td>0</td>\n",
              "      <td>право полицейский проникновение жилище решить ...</td>\n",
              "      <td>правило внесудебный проникновение полицейский ...</td>\n",
              "      <td>0.939108</td>\n",
              "      <td>0.769161</td>\n",
              "    </tr>\n",
              "  </tbody>\n",
              "</table>\n",
              "</div>"
            ],
            "text/plain": [
              "                                              text_1  ... pretrain_w2v_cos\n",
              "0  Полицейским разрешат стрелять на поражение по ...  ...         0.684432\n",
              "1  Право полицейских на проникновение в жилище ре...  ...         0.769161\n",
              "\n",
              "[2 rows x 7 columns]"
            ]
          },
          "metadata": {
            "tags": []
          },
          "execution_count": 98
        }
      ]
    },
    {
      "cell_type": "markdown",
      "metadata": {
        "id": "Zh3zJ8nDRbbu"
      },
      "source": [
        "Теперь делаем векторизацию c SVD"
      ]
    },
    {
      "cell_type": "code",
      "metadata": {
        "colab": {
          "base_uri": "https://localhost:8080/"
        },
        "id": "7ht6PRTnR9-j",
        "outputId": "29d9ffe6-f674-4d03-b832-afb0398de071"
      },
      "source": [
        "tfidf = TfidfVectorizer(min_df=3, max_df=0.4, max_features=1000)\r\n",
        "tfidf.fit(pd.concat([data['text_1_norm'], data['text_2_norm']]))"
      ],
      "execution_count": 100,
      "outputs": [
        {
          "output_type": "execute_result",
          "data": {
            "text/plain": [
              "TfidfVectorizer(analyzer='word', binary=False, decode_error='strict',\n",
              "                dtype=<class 'numpy.float64'>, encoding='utf-8',\n",
              "                input='content', lowercase=True, max_df=0.4, max_features=1000,\n",
              "                min_df=3, ngram_range=(1, 1), norm='l2', preprocessor=None,\n",
              "                smooth_idf=True, stop_words=None, strip_accents=None,\n",
              "                sublinear_tf=False, token_pattern='(?u)\\\\b\\\\w\\\\w+\\\\b',\n",
              "                tokenizer=None, use_idf=True, vocabulary=None)"
            ]
          },
          "metadata": {
            "tags": []
          },
          "execution_count": 100
        }
      ]
    },
    {
      "cell_type": "code",
      "metadata": {
        "colab": {
          "base_uri": "https://localhost:8080/"
        },
        "id": "pKfpDL3WrTVH",
        "outputId": "8837bc75-f6ff-4ea9-8dfb-d1064bf6e4db"
      },
      "source": [
        "svd = TruncatedSVD(200)\r\n",
        "\r\n",
        "X_text_1_svd = svd.fit_transform(tfidf.transform(data['text_1_norm']))\r\n",
        "X_text_2_svd = svd.fit_transform(tfidf.transform(data['text_2_norm']))\r\n",
        "X_text_2_svd.shape"
      ],
      "execution_count": 101,
      "outputs": [
        {
          "output_type": "execute_result",
          "data": {
            "text/plain": [
              "(7227, 200)"
            ]
          },
          "metadata": {
            "tags": []
          },
          "execution_count": 101
        }
      ]
    },
    {
      "cell_type": "code",
      "metadata": {
        "id": "oQ5uEE5srTYS"
      },
      "source": [
        "svd_cos = [cosine_similarity([v1], [v2])[0][0] for v1, v2 in zip(X_text_1_svd, X_text_2_svd)]\r\n"
      ],
      "execution_count": null,
      "outputs": []
    },
    {
      "cell_type": "code",
      "metadata": {
        "colab": {
          "base_uri": "https://localhost:8080/",
          "height": 264
        },
        "id": "XroKY9mMSQvC",
        "outputId": "9edb7eca-1ff6-4186-f09e-9f42ea012a88"
      },
      "source": [
        "data['svd_cos'] = svd_cos\r\n",
        "data.head(2)"
      ],
      "execution_count": 103,
      "outputs": [
        {
          "output_type": "execute_result",
          "data": {
            "text/html": [
              "<div>\n",
              "<style scoped>\n",
              "    .dataframe tbody tr th:only-of-type {\n",
              "        vertical-align: middle;\n",
              "    }\n",
              "\n",
              "    .dataframe tbody tr th {\n",
              "        vertical-align: top;\n",
              "    }\n",
              "\n",
              "    .dataframe thead th {\n",
              "        text-align: right;\n",
              "    }\n",
              "</style>\n",
              "<table border=\"1\" class=\"dataframe\">\n",
              "  <thead>\n",
              "    <tr style=\"text-align: right;\">\n",
              "      <th></th>\n",
              "      <th>text_1</th>\n",
              "      <th>text_2</th>\n",
              "      <th>label</th>\n",
              "      <th>text_1_norm</th>\n",
              "      <th>text_2_norm</th>\n",
              "      <th>my_w2v_cos</th>\n",
              "      <th>pretrain_w2v_cos</th>\n",
              "      <th>svd_cos</th>\n",
              "    </tr>\n",
              "  </thead>\n",
              "  <tbody>\n",
              "    <tr>\n",
              "      <th>0</th>\n",
              "      <td>Полицейским разрешат стрелять на поражение по ...</td>\n",
              "      <td>Полиции могут разрешить стрелять по хулиганам ...</td>\n",
              "      <td>0</td>\n",
              "      <td>полицейский разрешить стрелять поражение гражд...</td>\n",
              "      <td>полиция мочь разрешить стрелять хулиган травма...</td>\n",
              "      <td>0.909174</td>\n",
              "      <td>0.684432</td>\n",
              "      <td>0.023741</td>\n",
              "    </tr>\n",
              "    <tr>\n",
              "      <th>1</th>\n",
              "      <td>Право полицейских на проникновение в жилище ре...</td>\n",
              "      <td>Правила внесудебного проникновения полицейских...</td>\n",
              "      <td>0</td>\n",
              "      <td>право полицейский проникновение жилище решить ...</td>\n",
              "      <td>правило внесудебный проникновение полицейский ...</td>\n",
              "      <td>0.939108</td>\n",
              "      <td>0.769161</td>\n",
              "      <td>0.073409</td>\n",
              "    </tr>\n",
              "  </tbody>\n",
              "</table>\n",
              "</div>"
            ],
            "text/plain": [
              "                                              text_1  ...   svd_cos\n",
              "0  Полицейским разрешат стрелять на поражение по ...  ...  0.023741\n",
              "1  Право полицейских на проникновение в жилище ре...  ...  0.073409\n",
              "\n",
              "[2 rows x 8 columns]"
            ]
          },
          "metadata": {
            "tags": []
          },
          "execution_count": 103
        }
      ]
    },
    {
      "cell_type": "markdown",
      "metadata": {
        "id": "cWnc6DIVSaup"
      },
      "source": [
        "Теперь делаем векторизацию c NMF"
      ]
    },
    {
      "cell_type": "code",
      "metadata": {
        "id": "Pzx09wpISQxp"
      },
      "source": [
        "nmf = NMF(100)\r\n",
        "X_text_1_nmf = nmf.fit_transform(tfidf.transform(data['text_1_norm']))\r\n",
        "X_text_2_nmf = nmf.fit_transform(tfidf.transform(data['text_2_norm']))"
      ],
      "execution_count": 104,
      "outputs": []
    },
    {
      "cell_type": "code",
      "metadata": {
        "colab": {
          "base_uri": "https://localhost:8080/"
        },
        "id": "n6Sfww5ySQ1D",
        "outputId": "835befe2-6748-4cb1-b8d5-37c8c725e022"
      },
      "source": [
        "X_text_1_nmf.shape"
      ],
      "execution_count": 105,
      "outputs": [
        {
          "output_type": "execute_result",
          "data": {
            "text/plain": [
              "(7227, 100)"
            ]
          },
          "metadata": {
            "tags": []
          },
          "execution_count": 105
        }
      ]
    },
    {
      "cell_type": "code",
      "metadata": {
        "id": "yBW4pQ9cSQ35"
      },
      "source": [
        "nmf_cos = [cosine_similarity([v1], [v2])[0][0] for v1, v2 in zip(X_text_1_nmf, X_text_2_nmf)]\r\n"
      ],
      "execution_count": 106,
      "outputs": []
    },
    {
      "cell_type": "code",
      "metadata": {
        "colab": {
          "base_uri": "https://localhost:8080/",
          "height": 264
        },
        "id": "RE4ZvQ7OSQ6Z",
        "outputId": "7820e8ec-2c4d-4c83-fb57-165aa4d2f636"
      },
      "source": [
        "data['nmf_cos'] = nmf_cos\r\n",
        "data.head(2)"
      ],
      "execution_count": 110,
      "outputs": [
        {
          "output_type": "execute_result",
          "data": {
            "text/html": [
              "<div>\n",
              "<style scoped>\n",
              "    .dataframe tbody tr th:only-of-type {\n",
              "        vertical-align: middle;\n",
              "    }\n",
              "\n",
              "    .dataframe tbody tr th {\n",
              "        vertical-align: top;\n",
              "    }\n",
              "\n",
              "    .dataframe thead th {\n",
              "        text-align: right;\n",
              "    }\n",
              "</style>\n",
              "<table border=\"1\" class=\"dataframe\">\n",
              "  <thead>\n",
              "    <tr style=\"text-align: right;\">\n",
              "      <th></th>\n",
              "      <th>text_1</th>\n",
              "      <th>text_2</th>\n",
              "      <th>label</th>\n",
              "      <th>text_1_norm</th>\n",
              "      <th>text_2_norm</th>\n",
              "      <th>my_w2v_cos</th>\n",
              "      <th>pretrain_w2v_cos</th>\n",
              "      <th>svd_cos</th>\n",
              "      <th>nmf_cos</th>\n",
              "    </tr>\n",
              "  </thead>\n",
              "  <tbody>\n",
              "    <tr>\n",
              "      <th>0</th>\n",
              "      <td>Полицейским разрешат стрелять на поражение по ...</td>\n",
              "      <td>Полиции могут разрешить стрелять по хулиганам ...</td>\n",
              "      <td>0</td>\n",
              "      <td>полицейский разрешить стрелять поражение гражд...</td>\n",
              "      <td>полиция мочь разрешить стрелять хулиган травма...</td>\n",
              "      <td>0.909174</td>\n",
              "      <td>0.684432</td>\n",
              "      <td>0.023741</td>\n",
              "      <td>0.001409</td>\n",
              "    </tr>\n",
              "    <tr>\n",
              "      <th>1</th>\n",
              "      <td>Право полицейских на проникновение в жилище ре...</td>\n",
              "      <td>Правила внесудебного проникновения полицейских...</td>\n",
              "      <td>0</td>\n",
              "      <td>право полицейский проникновение жилище решить ...</td>\n",
              "      <td>правило внесудебный проникновение полицейский ...</td>\n",
              "      <td>0.939108</td>\n",
              "      <td>0.769161</td>\n",
              "      <td>0.073409</td>\n",
              "      <td>0.000000</td>\n",
              "    </tr>\n",
              "  </tbody>\n",
              "</table>\n",
              "</div>"
            ],
            "text/plain": [
              "                                              text_1  ...   nmf_cos\n",
              "0  Полицейским разрешат стрелять на поражение по ...  ...  0.001409\n",
              "1  Право полицейских на проникновение в жилище ре...  ...  0.000000\n",
              "\n",
              "[2 rows x 9 columns]"
            ]
          },
          "metadata": {
            "tags": []
          },
          "execution_count": 110
        }
      ]
    },
    {
      "cell_type": "markdown",
      "metadata": {
        "id": "fGO3SFTUTI93"
      },
      "source": [
        "Теперь делаем векторизацию с Fasttext"
      ]
    },
    {
      "cell_type": "code",
      "metadata": {
        "id": "EeyZgTRMSQ90"
      },
      "source": [
        "fast_text = gensim.models.FastText([text.split() for text in data_wiki_norm], size=50, \r\n",
        "                                   min_n=4, max_n=8) "
      ],
      "execution_count": 111,
      "outputs": []
    },
    {
      "cell_type": "code",
      "metadata": {
        "colab": {
          "base_uri": "https://localhost:8080/"
        },
        "id": "PkSYadjkTN0x",
        "outputId": "22fa759f-7eee-4e9e-f1f7-964f6a2f1f4d"
      },
      "source": [
        "fast_text.most_similar('язык')"
      ],
      "execution_count": 112,
      "outputs": [
        {
          "output_type": "stream",
          "text": [
            "/usr/local/lib/python3.6/dist-packages/ipykernel_launcher.py:1: DeprecationWarning: Call to deprecated `most_similar` (Method will be removed in 4.0.0, use self.wv.most_similar() instead).\n",
            "  \"\"\"Entry point for launching an IPython kernel.\n"
          ],
          "name": "stderr"
        },
        {
          "output_type": "execute_result",
          "data": {
            "text/plain": [
              "[('языкова', 0.9599191546440125),\n",
              " ('язычок', 0.958702027797699),\n",
              " ('языковед', 0.9430063962936401),\n",
              " ('диалект', 0.8220722079277039),\n",
              " ('поэзия', 0.7375847697257996),\n",
              " ('алфавит', 0.7257299423217773),\n",
              " ('википедия', 0.7244200706481934),\n",
              " ('диалог', 0.7164435982704163),\n",
              " ('грамматик', 0.709918737411499),\n",
              " ('словарь', 0.7093546986579895)]"
            ]
          },
          "metadata": {
            "tags": []
          },
          "execution_count": 112
        }
      ]
    },
    {
      "cell_type": "code",
      "metadata": {
        "colab": {
          "base_uri": "https://localhost:8080/"
        },
        "id": "CR54IyAZTN4I",
        "outputId": "179b4a91-4c0a-4af3-c232-a781937cba63"
      },
      "source": [
        "dim = 50 \r\n",
        "X_text_1_fasttext = np.zeros((len(data['text_1_norm']), dim))\r\n",
        "X_text_2_fasttext = np.zeros((len(data['text_2_norm']), dim))\r\n",
        "\r\n",
        "for i, text in enumerate(data['text_1_norm'].values):\r\n",
        "    X_text_1_fasttext[i] = get_embedding_split(text, fast_text, dim)\r\n",
        "    \r\n",
        "for i, text in enumerate(data['text_2_norm'].values):\r\n",
        "    X_text_2_fasttext[i] = get_embedding_split(text, fast_text, dim)"
      ],
      "execution_count": 113,
      "outputs": [
        {
          "output_type": "stream",
          "text": [
            "/usr/local/lib/python3.6/dist-packages/ipykernel_launcher.py:12: DeprecationWarning: Call to deprecated `__getitem__` (Method will be removed in 4.0.0, use self.wv.__getitem__() instead).\n",
            "  if sys.path[0] == '':\n"
          ],
          "name": "stderr"
        }
      ]
    },
    {
      "cell_type": "code",
      "metadata": {
        "colab": {
          "base_uri": "https://localhost:8080/"
        },
        "id": "uTjzDh_PSRAW",
        "outputId": "7eb8aa8d-7c52-40e3-8429-9e4523e28c3e"
      },
      "source": [
        "X_text_2_fasttext.shape"
      ],
      "execution_count": 118,
      "outputs": [
        {
          "output_type": "execute_result",
          "data": {
            "text/plain": [
              "(7227, 50)"
            ]
          },
          "metadata": {
            "tags": []
          },
          "execution_count": 118
        }
      ]
    },
    {
      "cell_type": "code",
      "metadata": {
        "id": "0gtkqYkUVYZw"
      },
      "source": [
        "fasttext_cos = [cosine_similarity([v1], [v2])[0][0] for v1, v2 in zip(X_text_1_fasttext, X_text_2_fasttext)]\r\n"
      ],
      "execution_count": null,
      "outputs": []
    },
    {
      "cell_type": "code",
      "metadata": {
        "colab": {
          "base_uri": "https://localhost:8080/",
          "height": 362
        },
        "id": "fBMgGN6XVYcx",
        "outputId": "5aced5fd-13c9-4286-a522-4338e19258c8"
      },
      "source": [
        "data['fasttext_cos'] = fasttext_cos\r\n",
        "data.head(3)"
      ],
      "execution_count": 120,
      "outputs": [
        {
          "output_type": "execute_result",
          "data": {
            "text/html": [
              "<div>\n",
              "<style scoped>\n",
              "    .dataframe tbody tr th:only-of-type {\n",
              "        vertical-align: middle;\n",
              "    }\n",
              "\n",
              "    .dataframe tbody tr th {\n",
              "        vertical-align: top;\n",
              "    }\n",
              "\n",
              "    .dataframe thead th {\n",
              "        text-align: right;\n",
              "    }\n",
              "</style>\n",
              "<table border=\"1\" class=\"dataframe\">\n",
              "  <thead>\n",
              "    <tr style=\"text-align: right;\">\n",
              "      <th></th>\n",
              "      <th>text_1</th>\n",
              "      <th>text_2</th>\n",
              "      <th>label</th>\n",
              "      <th>text_1_norm</th>\n",
              "      <th>text_2_norm</th>\n",
              "      <th>my_w2v_cos</th>\n",
              "      <th>pretrain_w2v_cos</th>\n",
              "      <th>svd_cos</th>\n",
              "      <th>nmf_cos</th>\n",
              "      <th>fasttext_cos</th>\n",
              "    </tr>\n",
              "  </thead>\n",
              "  <tbody>\n",
              "    <tr>\n",
              "      <th>0</th>\n",
              "      <td>Полицейским разрешат стрелять на поражение по ...</td>\n",
              "      <td>Полиции могут разрешить стрелять по хулиганам ...</td>\n",
              "      <td>0</td>\n",
              "      <td>полицейский разрешить стрелять поражение гражд...</td>\n",
              "      <td>полиция мочь разрешить стрелять хулиган травма...</td>\n",
              "      <td>0.909174</td>\n",
              "      <td>0.684432</td>\n",
              "      <td>0.023741</td>\n",
              "      <td>0.001409</td>\n",
              "      <td>0.832776</td>\n",
              "    </tr>\n",
              "    <tr>\n",
              "      <th>1</th>\n",
              "      <td>Право полицейских на проникновение в жилище ре...</td>\n",
              "      <td>Правила внесудебного проникновения полицейских...</td>\n",
              "      <td>0</td>\n",
              "      <td>право полицейский проникновение жилище решить ...</td>\n",
              "      <td>правило внесудебный проникновение полицейский ...</td>\n",
              "      <td>0.939108</td>\n",
              "      <td>0.769161</td>\n",
              "      <td>0.073409</td>\n",
              "      <td>0.000000</td>\n",
              "      <td>0.833987</td>\n",
              "    </tr>\n",
              "    <tr>\n",
              "      <th>2</th>\n",
              "      <td>Президент Египта ввел чрезвычайное положение в...</td>\n",
              "      <td>Власти Египта угрожают ввести в стране чрезвыч...</td>\n",
              "      <td>0</td>\n",
              "      <td>президент египет ввести чрезвычайный положение...</td>\n",
              "      <td>власть египет угрожать ввести страна чрезвычай...</td>\n",
              "      <td>0.946575</td>\n",
              "      <td>0.826440</td>\n",
              "      <td>-0.028124</td>\n",
              "      <td>0.000040</td>\n",
              "      <td>0.785734</td>\n",
              "    </tr>\n",
              "  </tbody>\n",
              "</table>\n",
              "</div>"
            ],
            "text/plain": [
              "                                              text_1  ... fasttext_cos\n",
              "0  Полицейским разрешат стрелять на поражение по ...  ...     0.832776\n",
              "1  Право полицейских на проникновение в жилище ре...  ...     0.833987\n",
              "2  Президент Египта ввел чрезвычайное положение в...  ...     0.785734\n",
              "\n",
              "[3 rows x 10 columns]"
            ]
          },
          "metadata": {
            "tags": []
          },
          "execution_count": 120
        }
      ]
    },
    {
      "cell_type": "markdown",
      "metadata": {
        "id": "z_sOfbtAVylT"
      },
      "source": [
        "5 колонок с косинусными близостями между парами векторизованных текстов -- получились"
      ]
    },
    {
      "cell_type": "markdown",
      "metadata": {
        "id": "zIyZQMLRW662"
      },
      "source": [
        "### Постройте обучающую выборку из этих близостей . Обучите любую модель (Логрег, Рандом форест или что-то ещё) на этой выборке и оцените качество на кросс-валидации (используйте микросреднюю f1-меру).  Попробуйте улучить метрику, изменив параметры в методах векторизации.\r\n",
        "!!УТОЧНЕНИЕ: модель нужно обучить сразу на всех 5 близостях, а не по 1 модели на каждой близости!"
      ]
    },
    {
      "cell_type": "code",
      "metadata": {
        "id": "RRgKNlVWVYfH"
      },
      "source": [
        "clf_final = RandomForestClassifier(n_estimators=100, max_depth=7, min_samples_leaf=15,\r\n",
        "                                    class_weight='balanced')"
      ],
      "execution_count": 125,
      "outputs": []
    },
    {
      "cell_type": "code",
      "metadata": {
        "id": "EbaA6UGXVYiH"
      },
      "source": [
        "y = np.array(data.label)"
      ],
      "execution_count": 126,
      "outputs": []
    },
    {
      "cell_type": "code",
      "metadata": {
        "colab": {
          "base_uri": "https://localhost:8080/",
          "height": 199
        },
        "id": "C4u8wEDcX318",
        "outputId": "02e9fcf0-5692-4675-c003-02a0088c9f56"
      },
      "source": [
        "X = data[['my_w2v_cos', 'pretrain_w2v_cos', 'svd_cos', 'nmf_cos', 'fasttext_cos']]\r\n",
        "X.head()"
      ],
      "execution_count": 127,
      "outputs": [
        {
          "output_type": "execute_result",
          "data": {
            "text/html": [
              "<div>\n",
              "<style scoped>\n",
              "    .dataframe tbody tr th:only-of-type {\n",
              "        vertical-align: middle;\n",
              "    }\n",
              "\n",
              "    .dataframe tbody tr th {\n",
              "        vertical-align: top;\n",
              "    }\n",
              "\n",
              "    .dataframe thead th {\n",
              "        text-align: right;\n",
              "    }\n",
              "</style>\n",
              "<table border=\"1\" class=\"dataframe\">\n",
              "  <thead>\n",
              "    <tr style=\"text-align: right;\">\n",
              "      <th></th>\n",
              "      <th>my_w2v_cos</th>\n",
              "      <th>pretrain_w2v_cos</th>\n",
              "      <th>svd_cos</th>\n",
              "      <th>nmf_cos</th>\n",
              "      <th>fasttext_cos</th>\n",
              "    </tr>\n",
              "  </thead>\n",
              "  <tbody>\n",
              "    <tr>\n",
              "      <th>0</th>\n",
              "      <td>0.909174</td>\n",
              "      <td>0.684432</td>\n",
              "      <td>0.023741</td>\n",
              "      <td>0.001409</td>\n",
              "      <td>0.832776</td>\n",
              "    </tr>\n",
              "    <tr>\n",
              "      <th>1</th>\n",
              "      <td>0.939108</td>\n",
              "      <td>0.769161</td>\n",
              "      <td>0.073409</td>\n",
              "      <td>0.000000</td>\n",
              "      <td>0.833987</td>\n",
              "    </tr>\n",
              "    <tr>\n",
              "      <th>2</th>\n",
              "      <td>0.946575</td>\n",
              "      <td>0.826440</td>\n",
              "      <td>-0.028124</td>\n",
              "      <td>0.000040</td>\n",
              "      <td>0.785734</td>\n",
              "    </tr>\n",
              "    <tr>\n",
              "      <th>3</th>\n",
              "      <td>0.800620</td>\n",
              "      <td>0.321407</td>\n",
              "      <td>-0.129837</td>\n",
              "      <td>0.002513</td>\n",
              "      <td>0.453214</td>\n",
              "    </tr>\n",
              "    <tr>\n",
              "      <th>4</th>\n",
              "      <td>0.915678</td>\n",
              "      <td>0.675009</td>\n",
              "      <td>-0.103641</td>\n",
              "      <td>0.000685</td>\n",
              "      <td>0.304416</td>\n",
              "    </tr>\n",
              "  </tbody>\n",
              "</table>\n",
              "</div>"
            ],
            "text/plain": [
              "   my_w2v_cos  pretrain_w2v_cos   svd_cos   nmf_cos  fasttext_cos\n",
              "0    0.909174          0.684432  0.023741  0.001409      0.832776\n",
              "1    0.939108          0.769161  0.073409  0.000000      0.833987\n",
              "2    0.946575          0.826440 -0.028124  0.000040      0.785734\n",
              "3    0.800620          0.321407 -0.129837  0.002513      0.453214\n",
              "4    0.915678          0.675009 -0.103641  0.000685      0.304416"
            ]
          },
          "metadata": {
            "tags": []
          },
          "execution_count": 127
        }
      ]
    },
    {
      "cell_type": "code",
      "metadata": {
        "colab": {
          "base_uri": "https://localhost:8080/"
        },
        "id": "0ACt9xaDVYk5",
        "outputId": "95e82a48-b2d9-433c-94bb-49ae840083d3"
      },
      "source": [
        "cross_val_score(clf_final, X, y, scoring=\"f1_micro\", cv=4)"
      ],
      "execution_count": 128,
      "outputs": [
        {
          "output_type": "execute_result",
          "data": {
            "text/plain": [
              "array([0.54454898, 0.58716104, 0.53458771, 0.48726467])"
            ]
          },
          "metadata": {
            "tags": []
          },
          "execution_count": 128
        }
      ]
    },
    {
      "cell_type": "markdown",
      "metadata": {
        "id": "xRHNxtxoZUFT"
      },
      "source": [
        "По заданию нужно улучшить метрику изменив парметры в методах векторизации. Чтобы не тыкать пальцем в небо попробуем сначал понять какая из колонок с косинусной близостью меньше всего вкладывается в результат модели."
      ]
    },
    {
      "cell_type": "code",
      "metadata": {
        "colab": {
          "base_uri": "https://localhost:8080/",
          "height": 353
        },
        "id": "-xOM7zajVYoF",
        "outputId": "5df11033-6ddc-4672-bc35-a81950fce5bd"
      },
      "source": [
        "from matplotlib import pyplot\r\n",
        "\r\n",
        "clf_final.fit(X, y)\r\n",
        "# get importance\r\n",
        "importance = clf_final.feature_importances_\r\n",
        "# summarize feature importance\r\n",
        "for i,v in enumerate(importance):\r\n",
        "\tprint('Feature: %0d, Score: %.5f' % (i,v))\r\n",
        "# plot feature importance\r\n",
        "pyplot.bar([x for x in range(len(importance))], importance)\r\n",
        "pyplot.show()"
      ],
      "execution_count": 130,
      "outputs": [
        {
          "output_type": "stream",
          "text": [
            "Feature: 0, Score: 0.43064\n",
            "Feature: 1, Score: 0.33942\n",
            "Feature: 2, Score: 0.04938\n",
            "Feature: 3, Score: 0.03953\n",
            "Feature: 4, Score: 0.14103\n"
          ],
          "name": "stdout"
        },
        {
          "output_type": "display_data",
          "data": {
            "image/png": "[encoded data removed]",
            "text/plain": [
              "<Figure size 432x288 with 1 Axes>"
            ]
          },
          "metadata": {
            "tags": [],
            "needs_background": "light"
          }
        }
      ]
    },
    {
      "cell_type": "markdown",
      "metadata": {
        "id": "HI1LA6SUZtfX"
      },
      "source": [
        "Получается, что методы под номером 2 и 3, то есть `'svd_cos', 'nmf_cos'` надо улучшить"
      ]
    },
    {
      "cell_type": "code",
      "metadata": {
        "colab": {
          "base_uri": "https://localhost:8080/"
        },
        "id": "N8XikZziZ93T",
        "outputId": "84b57a17-5d7a-4642-8160-bb63065f4c50"
      },
      "source": [
        "tfidf = TfidfVectorizer(min_df=4, max_df=0.5, max_features=1000)\r\n",
        "tfidf.fit(pd.concat([data['text_1_norm'], data['text_2_norm']]))"
      ],
      "execution_count": 131,
      "outputs": [
        {
          "output_type": "execute_result",
          "data": {
            "text/plain": [
              "TfidfVectorizer(analyzer='word', binary=False, decode_error='strict',\n",
              "                dtype=<class 'numpy.float64'>, encoding='utf-8',\n",
              "                input='content', lowercase=True, max_df=0.5, max_features=1000,\n",
              "                min_df=4, ngram_range=(1, 1), norm='l2', preprocessor=None,\n",
              "                smooth_idf=True, stop_words=None, strip_accents=None,\n",
              "                sublinear_tf=False, token_pattern='(?u)\\\\b\\\\w\\\\w+\\\\b',\n",
              "                tokenizer=None, use_idf=True, vocabulary=None)"
            ]
          },
          "metadata": {
            "tags": []
          },
          "execution_count": 131
        }
      ]
    },
    {
      "cell_type": "code",
      "metadata": {
        "colab": {
          "base_uri": "https://localhost:8080/"
        },
        "id": "6GGrEMS7Z96J",
        "outputId": "17bbbf2f-de7f-467b-e033-6401ccb3309f"
      },
      "source": [
        "svd = TruncatedSVD(100)  # было 200\r\n",
        "\r\n",
        "X_text_1_svd = svd.fit_transform(tfidf.transform(data['text_1_norm']))\r\n",
        "X_text_2_svd = svd.fit_transform(tfidf.transform(data['text_2_norm']))\r\n",
        "X_text_2_svd.shape"
      ],
      "execution_count": 132,
      "outputs": [
        {
          "output_type": "execute_result",
          "data": {
            "text/plain": [
              "(7227, 100)"
            ]
          },
          "metadata": {
            "tags": []
          },
          "execution_count": 132
        }
      ]
    },
    {
      "cell_type": "code",
      "metadata": {
        "id": "cC4VMij2Z99T"
      },
      "source": [
        "new_svd_cos = [cosine_similarity([v1], [v2])[0][0] for v1, v2 in zip(X_text_1_svd, X_text_2_svd)]\r\n"
      ],
      "execution_count": 133,
      "outputs": []
    },
    {
      "cell_type": "code",
      "metadata": {
        "colab": {
          "base_uri": "https://localhost:8080/",
          "height": 264
        },
        "id": "h2ANh8dFZ9_p",
        "outputId": "4d227aa3-8618-4f6e-871f-a5deceea91d4"
      },
      "source": [
        "data['svd_cos'] = new_svd_cos\r\n",
        "data.head(2)"
      ],
      "execution_count": 134,
      "outputs": [
        {
          "output_type": "execute_result",
          "data": {
            "text/html": [
              "<div>\n",
              "<style scoped>\n",
              "    .dataframe tbody tr th:only-of-type {\n",
              "        vertical-align: middle;\n",
              "    }\n",
              "\n",
              "    .dataframe tbody tr th {\n",
              "        vertical-align: top;\n",
              "    }\n",
              "\n",
              "    .dataframe thead th {\n",
              "        text-align: right;\n",
              "    }\n",
              "</style>\n",
              "<table border=\"1\" class=\"dataframe\">\n",
              "  <thead>\n",
              "    <tr style=\"text-align: right;\">\n",
              "      <th></th>\n",
              "      <th>text_1</th>\n",
              "      <th>text_2</th>\n",
              "      <th>label</th>\n",
              "      <th>text_1_norm</th>\n",
              "      <th>text_2_norm</th>\n",
              "      <th>my_w2v_cos</th>\n",
              "      <th>pretrain_w2v_cos</th>\n",
              "      <th>svd_cos</th>\n",
              "      <th>nmf_cos</th>\n",
              "      <th>fasttext_cos</th>\n",
              "    </tr>\n",
              "  </thead>\n",
              "  <tbody>\n",
              "    <tr>\n",
              "      <th>0</th>\n",
              "      <td>Полицейским разрешат стрелять на поражение по ...</td>\n",
              "      <td>Полиции могут разрешить стрелять по хулиганам ...</td>\n",
              "      <td>0</td>\n",
              "      <td>полицейский разрешить стрелять поражение гражд...</td>\n",
              "      <td>полиция мочь разрешить стрелять хулиган травма...</td>\n",
              "      <td>0.909174</td>\n",
              "      <td>0.684432</td>\n",
              "      <td>-0.153809</td>\n",
              "      <td>0.001409</td>\n",
              "      <td>0.832776</td>\n",
              "    </tr>\n",
              "    <tr>\n",
              "      <th>1</th>\n",
              "      <td>Право полицейских на проникновение в жилище ре...</td>\n",
              "      <td>Правила внесудебного проникновения полицейских...</td>\n",
              "      <td>0</td>\n",
              "      <td>право полицейский проникновение жилище решить ...</td>\n",
              "      <td>правило внесудебный проникновение полицейский ...</td>\n",
              "      <td>0.939108</td>\n",
              "      <td>0.769161</td>\n",
              "      <td>-0.214321</td>\n",
              "      <td>0.000000</td>\n",
              "      <td>0.833987</td>\n",
              "    </tr>\n",
              "  </tbody>\n",
              "</table>\n",
              "</div>"
            ],
            "text/plain": [
              "                                              text_1  ... fasttext_cos\n",
              "0  Полицейским разрешат стрелять на поражение по ...  ...     0.832776\n",
              "1  Право полицейских на проникновение в жилище ре...  ...     0.833987\n",
              "\n",
              "[2 rows x 10 columns]"
            ]
          },
          "metadata": {
            "tags": []
          },
          "execution_count": 134
        }
      ]
    },
    {
      "cell_type": "markdown",
      "metadata": {
        "id": "uORqvtMva5aQ"
      },
      "source": [
        "Теперь подкрутим параметры NMF"
      ]
    },
    {
      "cell_type": "code",
      "metadata": {
        "id": "MUUzgyrfZ-Dx"
      },
      "source": [
        "nmf = NMF(200)  # было 100\r\n",
        "X_text_1_nmf = nmf.fit_transform(tfidf.transform(data['text_1_norm']))\r\n",
        "X_text_2_nmf = nmf.fit_transform(tfidf.transform(data['text_2_norm']))"
      ],
      "execution_count": 135,
      "outputs": []
    },
    {
      "cell_type": "code",
      "metadata": {
        "colab": {
          "base_uri": "https://localhost:8080/"
        },
        "id": "y14dJJ_EcUWH",
        "outputId": "011bb55b-4e1b-4b0c-c080-376799e6e963"
      },
      "source": [
        "X_text_1_nmf"
      ],
      "execution_count": 138,
      "outputs": [
        {
          "output_type": "execute_result",
          "data": {
            "text/plain": [
              "array([[0.00042703, 0.        , 0.        , ..., 0.        , 0.        ,\n",
              "        0.        ],\n",
              "       [0.        , 0.        , 0.        , ..., 0.        , 0.        ,\n",
              "        0.        ],\n",
              "       [0.        , 0.        , 0.        , ..., 0.        , 0.        ,\n",
              "        0.        ],\n",
              "       ...,\n",
              "       [0.        , 0.        , 0.10237149, ..., 0.        , 0.00173045,\n",
              "        0.        ],\n",
              "       [0.        , 0.        , 0.07195858, ..., 0.        , 0.00040248,\n",
              "        0.        ],\n",
              "       [0.        , 0.        , 0.        , ..., 0.        , 0.        ,\n",
              "        0.        ]])"
            ]
          },
          "metadata": {
            "tags": []
          },
          "execution_count": 138
        }
      ]
    },
    {
      "cell_type": "code",
      "metadata": {
        "id": "F4R_oznpbW7X"
      },
      "source": [
        "new_nmf_cos = [cosine_similarity([v1], [v2])[0][0] for v1, v2 in zip(X_text_1_nmf, X_text_2_nmf)]\r\n"
      ],
      "execution_count": 139,
      "outputs": []
    },
    {
      "cell_type": "code",
      "metadata": {
        "colab": {
          "base_uri": "https://localhost:8080/"
        },
        "id": "OHOgWMDscYeb",
        "outputId": "275531aa-06b7-4309-c2b8-c980c8401d60"
      },
      "source": [
        "new_nmf_cos[:10]"
      ],
      "execution_count": 142,
      "outputs": [
        {
          "output_type": "execute_result",
          "data": {
            "text/plain": [
              "[0.0,\n",
              " 0.0,\n",
              " 0.016526320886776132,\n",
              " 0.03107891356176823,\n",
              " 0.0005854977653614565,\n",
              " 0.0,\n",
              " 0.0,\n",
              " 0.007695944253878257,\n",
              " 0.0014242944624586896,\n",
              " 0.008266848902475317]"
            ]
          },
          "metadata": {
            "tags": []
          },
          "execution_count": 142
        }
      ]
    },
    {
      "cell_type": "code",
      "metadata": {
        "colab": {
          "base_uri": "https://localhost:8080/",
          "height": 362
        },
        "id": "pluJZibCbXDn",
        "outputId": "aba893c5-556b-4445-86c1-e66e49b456ba"
      },
      "source": [
        "data['nmf_cos'] = new_nmf_cos\r\n",
        "data.head(3)"
      ],
      "execution_count": 143,
      "outputs": [
        {
          "output_type": "execute_result",
          "data": {
            "text/html": [
              "<div>\n",
              "<style scoped>\n",
              "    .dataframe tbody tr th:only-of-type {\n",
              "        vertical-align: middle;\n",
              "    }\n",
              "\n",
              "    .dataframe tbody tr th {\n",
              "        vertical-align: top;\n",
              "    }\n",
              "\n",
              "    .dataframe thead th {\n",
              "        text-align: right;\n",
              "    }\n",
              "</style>\n",
              "<table border=\"1\" class=\"dataframe\">\n",
              "  <thead>\n",
              "    <tr style=\"text-align: right;\">\n",
              "      <th></th>\n",
              "      <th>text_1</th>\n",
              "      <th>text_2</th>\n",
              "      <th>label</th>\n",
              "      <th>text_1_norm</th>\n",
              "      <th>text_2_norm</th>\n",
              "      <th>my_w2v_cos</th>\n",
              "      <th>pretrain_w2v_cos</th>\n",
              "      <th>svd_cos</th>\n",
              "      <th>nmf_cos</th>\n",
              "      <th>fasttext_cos</th>\n",
              "    </tr>\n",
              "  </thead>\n",
              "  <tbody>\n",
              "    <tr>\n",
              "      <th>0</th>\n",
              "      <td>Полицейским разрешат стрелять на поражение по ...</td>\n",
              "      <td>Полиции могут разрешить стрелять по хулиганам ...</td>\n",
              "      <td>0</td>\n",
              "      <td>полицейский разрешить стрелять поражение гражд...</td>\n",
              "      <td>полиция мочь разрешить стрелять хулиган травма...</td>\n",
              "      <td>0.909174</td>\n",
              "      <td>0.684432</td>\n",
              "      <td>-0.153809</td>\n",
              "      <td>0.000000</td>\n",
              "      <td>0.832776</td>\n",
              "    </tr>\n",
              "    <tr>\n",
              "      <th>1</th>\n",
              "      <td>Право полицейских на проникновение в жилище ре...</td>\n",
              "      <td>Правила внесудебного проникновения полицейских...</td>\n",
              "      <td>0</td>\n",
              "      <td>право полицейский проникновение жилище решить ...</td>\n",
              "      <td>правило внесудебный проникновение полицейский ...</td>\n",
              "      <td>0.939108</td>\n",
              "      <td>0.769161</td>\n",
              "      <td>-0.214321</td>\n",
              "      <td>0.000000</td>\n",
              "      <td>0.833987</td>\n",
              "    </tr>\n",
              "    <tr>\n",
              "      <th>2</th>\n",
              "      <td>Президент Египта ввел чрезвычайное положение в...</td>\n",
              "      <td>Власти Египта угрожают ввести в стране чрезвыч...</td>\n",
              "      <td>0</td>\n",
              "      <td>президент египет ввести чрезвычайный положение...</td>\n",
              "      <td>власть египет угрожать ввести страна чрезвычай...</td>\n",
              "      <td>0.946575</td>\n",
              "      <td>0.826440</td>\n",
              "      <td>-0.085504</td>\n",
              "      <td>0.016526</td>\n",
              "      <td>0.785734</td>\n",
              "    </tr>\n",
              "  </tbody>\n",
              "</table>\n",
              "</div>"
            ],
            "text/plain": [
              "                                              text_1  ... fasttext_cos\n",
              "0  Полицейским разрешат стрелять на поражение по ...  ...     0.832776\n",
              "1  Право полицейских на проникновение в жилище ре...  ...     0.833987\n",
              "2  Президент Египта ввел чрезвычайное положение в...  ...     0.785734\n",
              "\n",
              "[3 rows x 10 columns]"
            ]
          },
          "metadata": {
            "tags": []
          },
          "execution_count": 143
        }
      ]
    },
    {
      "cell_type": "code",
      "metadata": {
        "colab": {
          "base_uri": "https://localhost:8080/",
          "height": 199
        },
        "id": "BqEx9_EYbku6",
        "outputId": "9426da50-b253-4e55-dea7-5e0e59f3ec4c"
      },
      "source": [
        "clf_final2 = RandomForestClassifier(n_estimators=100, max_depth=7,\r\n",
        "                                    min_samples_leaf=15, class_weight='balanced')\r\n",
        "y = np.array(data.label)\r\n",
        "X2 = data[['my_w2v_cos', 'pretrain_w2v_cos', 'svd_cos', 'nmf_cos', 'fasttext_cos']]\r\n",
        "X2.head()"
      ],
      "execution_count": 144,
      "outputs": [
        {
          "output_type": "execute_result",
          "data": {
            "text/html": [
              "<div>\n",
              "<style scoped>\n",
              "    .dataframe tbody tr th:only-of-type {\n",
              "        vertical-align: middle;\n",
              "    }\n",
              "\n",
              "    .dataframe tbody tr th {\n",
              "        vertical-align: top;\n",
              "    }\n",
              "\n",
              "    .dataframe thead th {\n",
              "        text-align: right;\n",
              "    }\n",
              "</style>\n",
              "<table border=\"1\" class=\"dataframe\">\n",
              "  <thead>\n",
              "    <tr style=\"text-align: right;\">\n",
              "      <th></th>\n",
              "      <th>my_w2v_cos</th>\n",
              "      <th>pretrain_w2v_cos</th>\n",
              "      <th>svd_cos</th>\n",
              "      <th>nmf_cos</th>\n",
              "      <th>fasttext_cos</th>\n",
              "    </tr>\n",
              "  </thead>\n",
              "  <tbody>\n",
              "    <tr>\n",
              "      <th>0</th>\n",
              "      <td>0.909174</td>\n",
              "      <td>0.684432</td>\n",
              "      <td>-0.153809</td>\n",
              "      <td>0.000000</td>\n",
              "      <td>0.832776</td>\n",
              "    </tr>\n",
              "    <tr>\n",
              "      <th>1</th>\n",
              "      <td>0.939108</td>\n",
              "      <td>0.769161</td>\n",
              "      <td>-0.214321</td>\n",
              "      <td>0.000000</td>\n",
              "      <td>0.833987</td>\n",
              "    </tr>\n",
              "    <tr>\n",
              "      <th>2</th>\n",
              "      <td>0.946575</td>\n",
              "      <td>0.826440</td>\n",
              "      <td>-0.085504</td>\n",
              "      <td>0.016526</td>\n",
              "      <td>0.785734</td>\n",
              "    </tr>\n",
              "    <tr>\n",
              "      <th>3</th>\n",
              "      <td>0.800620</td>\n",
              "      <td>0.321407</td>\n",
              "      <td>0.003511</td>\n",
              "      <td>0.031079</td>\n",
              "      <td>0.453214</td>\n",
              "    </tr>\n",
              "    <tr>\n",
              "      <th>4</th>\n",
              "      <td>0.915678</td>\n",
              "      <td>0.675009</td>\n",
              "      <td>0.142779</td>\n",
              "      <td>0.000585</td>\n",
              "      <td>0.304416</td>\n",
              "    </tr>\n",
              "  </tbody>\n",
              "</table>\n",
              "</div>"
            ],
            "text/plain": [
              "   my_w2v_cos  pretrain_w2v_cos   svd_cos   nmf_cos  fasttext_cos\n",
              "0    0.909174          0.684432 -0.153809  0.000000      0.832776\n",
              "1    0.939108          0.769161 -0.214321  0.000000      0.833987\n",
              "2    0.946575          0.826440 -0.085504  0.016526      0.785734\n",
              "3    0.800620          0.321407  0.003511  0.031079      0.453214\n",
              "4    0.915678          0.675009  0.142779  0.000585      0.304416"
            ]
          },
          "metadata": {
            "tags": []
          },
          "execution_count": 144
        }
      ]
    },
    {
      "cell_type": "code",
      "metadata": {
        "colab": {
          "base_uri": "https://localhost:8080/"
        },
        "id": "Q3JsuLLBbk3p",
        "outputId": "b6d8eae3-3f15-4fbc-8f78-e2b30e1f572a"
      },
      "source": [
        "cross_val_score(clf_final2, X2, y, scoring=\"f1_micro\", cv=4)"
      ],
      "execution_count": 145,
      "outputs": [
        {
          "output_type": "execute_result",
          "data": {
            "text/plain": [
              "array([0.55063641, 0.58494743, 0.53514112, 0.48781838])"
            ]
          },
          "metadata": {
            "tags": []
          },
          "execution_count": 145
        }
      ]
    },
    {
      "cell_type": "markdown",
      "metadata": {
        "id": "rR9Zs8PScoZc"
      },
      "source": [
        "а предыдущий f1  такой был:"
      ]
    },
    {
      "cell_type": "code",
      "metadata": {
        "colab": {
          "base_uri": "https://localhost:8080/"
        },
        "id": "UflSU6HKbk_g",
        "outputId": "44abf51b-ad68-454b-ca34-853569d8f82c"
      },
      "source": [
        "cross_val_score(clf_final, X, y, scoring=\"f1_micro\", cv=4)"
      ],
      "execution_count": 146,
      "outputs": [
        {
          "output_type": "execute_result",
          "data": {
            "text/plain": [
              "array([0.53901494, 0.58882125, 0.53680133, 0.49169435])"
            ]
          },
          "metadata": {
            "tags": []
          },
          "execution_count": 146
        }
      ]
    },
    {
      "cell_type": "markdown",
      "metadata": {
        "id": "0okbiYCJcwE6"
      },
      "source": [
        "В общем снова ничего не поменялось. Возможно, если глубже поисследовать именно то, какие кластеры создают NMF и SVD на наших парафразах и посмотреть где затыки, то ситуация улучшится. Наример, заменить все имена собственные или все числа на какой-то один токен и попробовать заново векторизовать."
      ]
    },
    {
      "cell_type": "code",
      "metadata": {
        "id": "mv2IM2zCbXLc"
      },
      "source": [
        ""
      ],
      "execution_count": null,
      "outputs": []
    }
  ]
}