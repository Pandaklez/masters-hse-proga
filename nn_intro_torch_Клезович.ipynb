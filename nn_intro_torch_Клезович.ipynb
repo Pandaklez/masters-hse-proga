{
  "nbformat": 4,
  "nbformat_minor": 0,
  "metadata": {
    "kernelspec": {
      "display_name": "Python 3",
      "language": "python",
      "name": "python3"
    },
    "language_info": {
      "codemirror_mode": {
        "name": "ipython",
        "version": 3
      },
      "file_extension": ".py",
      "mimetype": "text/x-python",
      "name": "python",
      "nbconvert_exporter": "python",
      "pygments_lexer": "ipython3",
      "version": "3.8.8"
    },
    "colab": {
      "name": "nn_intro_torch_Клезович.ipynb",
      "provenance": [],
      "include_colab_link": true
    }
  },
  "cells": [
    {
      "cell_type": "markdown",
      "metadata": {
        "id": "view-in-github",
        "colab_type": "text"
      },
      "source": [
        "<a href=\"https://colab.research.google.com/github/Pandaklez/masters-hse-proga/blob/master/nn_intro_torch_%D0%9A%D0%BB%D0%B5%D0%B7%D0%BE%D0%B2%D0%B8%D1%87.ipynb\" target=\"_parent\"><img src=\"https://colab.research.google.com/assets/colab-badge.svg\" alt=\"Open In Colab\"/></a>"
      ]
    },
    {
      "cell_type": "markdown",
      "metadata": {
        "id": "AWN1ETspaXeE"
      },
      "source": [
        "Эту тетрадку лучше запускать в колабе или в vast.ai. Не мучатесь с установкой библиотек и с обучением на cpu."
      ]
    },
    {
      "cell_type": "code",
      "metadata": {
        "scrolled": true,
        "colab": {
          "base_uri": "https://localhost:8080/"
        },
        "id": "H98LOCMJaXed",
        "outputId": "0649a71d-26d2-44ec-bc5b-0d24edb46648"
      },
      "source": [
        "!pip install pandas scikit-learn gensim matplotlib"
      ],
      "execution_count": 1,
      "outputs": [
        {
          "output_type": "stream",
          "text": [
            "Requirement already satisfied: pandas in /usr/local/lib/python3.7/dist-packages (1.1.5)\n",
            "Requirement already satisfied: scikit-learn in /usr/local/lib/python3.7/dist-packages (0.22.2.post1)\n",
            "Requirement already satisfied: gensim in /usr/local/lib/python3.7/dist-packages (3.6.0)\n",
            "Requirement already satisfied: matplotlib in /usr/local/lib/python3.7/dist-packages (3.2.2)\n",
            "Requirement already satisfied: numpy>=1.15.4 in /usr/local/lib/python3.7/dist-packages (from pandas) (1.19.5)\n",
            "Requirement already satisfied: pytz>=2017.2 in /usr/local/lib/python3.7/dist-packages (from pandas) (2018.9)\n",
            "Requirement already satisfied: python-dateutil>=2.7.3 in /usr/local/lib/python3.7/dist-packages (from pandas) (2.8.1)\n",
            "Requirement already satisfied: scipy>=0.17.0 in /usr/local/lib/python3.7/dist-packages (from scikit-learn) (1.4.1)\n",
            "Requirement already satisfied: joblib>=0.11 in /usr/local/lib/python3.7/dist-packages (from scikit-learn) (1.0.1)\n",
            "Requirement already satisfied: smart-open>=1.2.1 in /usr/local/lib/python3.7/dist-packages (from gensim) (5.0.0)\n",
            "Requirement already satisfied: six>=1.5.0 in /usr/local/lib/python3.7/dist-packages (from gensim) (1.15.0)\n",
            "Requirement already satisfied: pyparsing!=2.0.4,!=2.1.2,!=2.1.6,>=2.0.1 in /usr/local/lib/python3.7/dist-packages (from matplotlib) (2.4.7)\n",
            "Requirement already satisfied: kiwisolver>=1.0.1 in /usr/local/lib/python3.7/dist-packages (from matplotlib) (1.3.1)\n",
            "Requirement already satisfied: cycler>=0.10 in /usr/local/lib/python3.7/dist-packages (from matplotlib) (0.10.0)\n"
          ],
          "name": "stdout"
        }
      ]
    },
    {
      "cell_type": "code",
      "metadata": {
        "id": "m6C-vMsFaXej"
      },
      "source": [
        "import torch\n",
        "import torch.nn as nn\n",
        "import torch.nn.functional as F\n",
        "import torch.optim as optim"
      ],
      "execution_count": 2,
      "outputs": []
    },
    {
      "cell_type": "code",
      "metadata": {
        "id": "DXatQrsMaXeq"
      },
      "source": [
        "import pandas as pd\n",
        "import numpy as np\n",
        "from string import punctuation\n",
        "from sklearn.model_selection import train_test_split\n",
        "from collections import Counter\n",
        "import matplotlib.pyplot as plt\n",
        "%matplotlib inline"
      ],
      "execution_count": 3,
      "outputs": []
    },
    {
      "cell_type": "markdown",
      "metadata": {
        "id": "P7nzYdijaXek"
      },
      "source": [
        "Для домашнего задания буду использовать задачу классификации с кворой, как и советуется по заданию"
      ]
    },
    {
      "cell_type": "markdown",
      "metadata": {
        "id": "pi1vIpgOaXg0"
      },
      "source": [
        "## Классификация"
      ]
    },
    {
      "cell_type": "markdown",
      "metadata": {
        "id": "EuQLu0pNaXg1"
      },
      "source": [
        "Данные возьмем из соревнования - https://www.kaggle.com/c/quora-insincere-questions-classification/overview  \n",
        "В этом соревновании нужно было предсказывать токсичность вопроса."
      ]
    },
    {
      "cell_type": "code",
      "metadata": {
        "id": "XR3uTjSqaXg1"
      },
      "source": [
        "quora = pd.read_csv('quora.csv')"
      ],
      "execution_count": 4,
      "outputs": []
    },
    {
      "cell_type": "code",
      "metadata": {
        "colab": {
          "base_uri": "https://localhost:8080/",
          "height": 202
        },
        "id": "-Tluti4iaXg2",
        "outputId": "5ae03edb-be46-46ee-c63f-269e5d19d397"
      },
      "source": [
        "quora.head()"
      ],
      "execution_count": 5,
      "outputs": [
        {
          "output_type": "execute_result",
          "data": {
            "text/html": [
              "<div>\n",
              "<style scoped>\n",
              "    .dataframe tbody tr th:only-of-type {\n",
              "        vertical-align: middle;\n",
              "    }\n",
              "\n",
              "    .dataframe tbody tr th {\n",
              "        vertical-align: top;\n",
              "    }\n",
              "\n",
              "    .dataframe thead th {\n",
              "        text-align: right;\n",
              "    }\n",
              "</style>\n",
              "<table border=\"1\" class=\"dataframe\">\n",
              "  <thead>\n",
              "    <tr style=\"text-align: right;\">\n",
              "      <th></th>\n",
              "      <th>qid</th>\n",
              "      <th>question_text</th>\n",
              "      <th>target</th>\n",
              "    </tr>\n",
              "  </thead>\n",
              "  <tbody>\n",
              "    <tr>\n",
              "      <th>0</th>\n",
              "      <td>00002165364db923c7e6</td>\n",
              "      <td>How did Quebec nationalists see their province...</td>\n",
              "      <td>0</td>\n",
              "    </tr>\n",
              "    <tr>\n",
              "      <th>1</th>\n",
              "      <td>000032939017120e6e44</td>\n",
              "      <td>Do you have an adopted dog, how would you enco...</td>\n",
              "      <td>0</td>\n",
              "    </tr>\n",
              "    <tr>\n",
              "      <th>2</th>\n",
              "      <td>0000412ca6e4628ce2cf</td>\n",
              "      <td>Why does velocity affect time? Does velocity a...</td>\n",
              "      <td>0</td>\n",
              "    </tr>\n",
              "    <tr>\n",
              "      <th>3</th>\n",
              "      <td>000042bf85aa498cd78e</td>\n",
              "      <td>How did Otto von Guericke used the Magdeburg h...</td>\n",
              "      <td>0</td>\n",
              "    </tr>\n",
              "    <tr>\n",
              "      <th>4</th>\n",
              "      <td>0000455dfa3e01eae3af</td>\n",
              "      <td>Can I convert montra helicon D to a mountain b...</td>\n",
              "      <td>0</td>\n",
              "    </tr>\n",
              "  </tbody>\n",
              "</table>\n",
              "</div>"
            ],
            "text/plain": [
              "                    qid  ... target\n",
              "0  00002165364db923c7e6  ...      0\n",
              "1  000032939017120e6e44  ...      0\n",
              "2  0000412ca6e4628ce2cf  ...      0\n",
              "3  000042bf85aa498cd78e  ...      0\n",
              "4  0000455dfa3e01eae3af  ...      0\n",
              "\n",
              "[5 rows x 3 columns]"
            ]
          },
          "metadata": {
            "tags": []
          },
          "execution_count": 5
        }
      ]
    },
    {
      "cell_type": "markdown",
      "metadata": {
        "id": "qhqfsHm6aXg3"
      },
      "source": [
        "Предобработка точно такая же"
      ]
    },
    {
      "cell_type": "code",
      "metadata": {
        "id": "S7TqZGFrg0WS"
      },
      "source": [
        "def preprocess(text):\n",
        "    tokens = text.lower().split()\n",
        "    tokens = [token.strip(punctuation) for token in tokens]\n",
        "    return tokens"
      ],
      "execution_count": 6,
      "outputs": []
    },
    {
      "cell_type": "code",
      "metadata": {
        "id": "9mfZWYH1aXg3"
      },
      "source": [
        "# словарь\n",
        "vocab = Counter()\n",
        "\n",
        "for text in quora.question_text:\n",
        "    vocab.update(preprocess(text))"
      ],
      "execution_count": 7,
      "outputs": []
    },
    {
      "cell_type": "code",
      "metadata": {
        "colab": {
          "base_uri": "https://localhost:8080/"
        },
        "id": "8k86enoKaXg4",
        "outputId": "8e2a3786-8bc1-49b4-e3ef-e74b7ffeb76c"
      },
      "source": [
        "len(vocab)"
      ],
      "execution_count": 8,
      "outputs": [
        {
          "output_type": "execute_result",
          "data": {
            "text/plain": [
              "273056"
            ]
          },
          "metadata": {
            "tags": []
          },
          "execution_count": 8
        }
      ]
    },
    {
      "cell_type": "code",
      "metadata": {
        "id": "re6vkwX8aXhK"
      },
      "source": [
        "# отфильтрованный словарь\n",
        "filtered_vocab = set()\n",
        "\n",
        "for word in vocab:\n",
        "    if vocab[word] > 50:\n",
        "        filtered_vocab.add(word)"
      ],
      "execution_count": 9,
      "outputs": []
    },
    {
      "cell_type": "code",
      "metadata": {
        "colab": {
          "base_uri": "https://localhost:8080/"
        },
        "id": "GA82TRmlaXhL",
        "outputId": "72b90db6-2f27-420b-d74c-4e3879f806e1"
      },
      "source": [
        "len(filtered_vocab)"
      ],
      "execution_count": 10,
      "outputs": [
        {
          "output_type": "execute_result",
          "data": {
            "text/plain": [
              "14083"
            ]
          },
          "metadata": {
            "tags": []
          },
          "execution_count": 10
        }
      ]
    },
    {
      "cell_type": "code",
      "metadata": {
        "id": "5nuSYTeEaXhL"
      },
      "source": [
        "# индексируем слова\n",
        "word2id = {'PAD':0}\n",
        "\n",
        "for word in filtered_vocab:\n",
        "    word2id[word] = len(word2id)"
      ],
      "execution_count": 11,
      "outputs": []
    },
    {
      "cell_type": "code",
      "metadata": {
        "id": "NOBzmnZCaXhM"
      },
      "source": [
        "id2word = {i:word for word, i in word2id.items()}"
      ],
      "execution_count": 12,
      "outputs": []
    },
    {
      "cell_type": "code",
      "metadata": {
        "id": "ZQB3J8ljaXhM"
      },
      "source": [
        "# поставит тоже 100\n",
        "MAX_LEN = 100"
      ],
      "execution_count": 13,
      "outputs": []
    },
    {
      "cell_type": "code",
      "metadata": {
        "id": "Vrg2wre1aXhN"
      },
      "source": [
        "train_dataset, valid_dataset = train_test_split(quora, test_size=0.05, random_state=42)"
      ],
      "execution_count": 14,
      "outputs": []
    },
    {
      "cell_type": "markdown",
      "metadata": {
        "id": "vmPT9WtHaXf6"
      },
      "source": [
        "Чтобы итерироваться по данным нужно создать вот такой класс, в котором будет функция \\_\\_get_item\\_\\_\n",
        "\n",
        "В нее будет передавать индекс и мы можем задать вручную, что по этому индексу будет возвращаться  \n",
        "\n",
        "В этот класс мы вставим предобработку, которую делали выше. Так мы сможем генерировать данные батчами и не грузить все целиком."
      ]
    },
    {
      "cell_type": "code",
      "metadata": {
        "id": "5RkijvvRhxsn"
      },
      "source": [
        "class Dataset(torch.utils.data.Dataset):\n",
        "\n",
        "    def __init__(self, dataset, word2id, MAX_LEN, text_field, target_field):\n",
        "        \n",
        "        # храним сырой датасет\n",
        "        # еще лучше можно сделать, если считывать из файла при генерации\n",
        "        self.dataset = dataset[text_field].values\n",
        "        \n",
        "        # мы не считаем словарь прямо тут, т.к. нам нужно шерить словарь между трейном и валидацией\n",
        "        self.word2id = word2id\n",
        "        self.MAX_LEN = MAX_LEN\n",
        "        self.length = dataset.shape[0]\n",
        "        # таргеты можно сразу целиком выделить \n",
        "        self.target = torch.Tensor(dataset[target_field].values)\n",
        "\n",
        "    def __len__(self):\n",
        "        # нужно уметь возвращать длину датасета, в нашем случае это просто сделать\n",
        "        # если не загружать данные целиком, а читать из файла - это может быть сложнее\n",
        "        return self.length\n",
        "\n",
        "    def __getitem__(self, index):\n",
        "\n",
        "        # в index будут индексы от 0 до self.length\n",
        "        # по ним мы достанем тексты, предобработаем,переведем в векторы, западим и вернем\n",
        "\n",
        "\n",
        "        tokens = self.preprocess(self.dataset[index]) # токенизируем\n",
        "        ids = [self.word2id[token] for token in tokens if token in self.word2id][:MAX_LEN]\n",
        "        ids = torch.nn.functional.pad(torch.LongTensor(ids), \n",
        "                                (0, self.MAX_LEN-len(ids)), \n",
        "                                mode='constant',\n",
        "                                value=0)\n",
        "\n",
        "        y = self.target[index]\n",
        "\n",
        "        return ids, y\n",
        "    \n",
        "    def preprocess(self, text):\n",
        "        tokens = text.lower().split()\n",
        "        tokens = [token.strip(punctuation) for token in tokens]\n",
        "        tokens = [token for token in tokens if token]\n",
        "        return tokens\n"
      ],
      "execution_count": 15,
      "outputs": []
    },
    {
      "cell_type": "markdown",
      "metadata": {
        "id": "WRYULQ9oaXhO"
      },
      "source": [
        "Разлчия в самой модели тоже минимальные - нужно поменять активацию в последнем слое, лосс и можно добавить метрику."
      ]
    },
    {
      "cell_type": "code",
      "metadata": {
        "id": "lzWyTqUQaXhP"
      },
      "source": [
        "training_set = Dataset(train_dataset, word2id, MAX_LEN, 'question_text', 'target')\n",
        "training_generator = torch.utils.data.DataLoader(training_set, batch_size=256)\n",
        "\n",
        "valid_set = Dataset(valid_dataset, word2id, MAX_LEN, 'question_text', 'target')\n",
        "valid_generator = torch.utils.data.DataLoader(valid_set, batch_size=256)"
      ],
      "execution_count": 16,
      "outputs": []
    },
    {
      "cell_type": "markdown",
      "metadata": {
        "id": "1eyL90z2aXhP"
      },
      "source": [
        "Как выбирать batch_size? Размер батча может влиять на качество модели и точно влияет на скорость обучения. Обычно, чем больше батч, тем быстрее будет обучаться модель. Размер батча ограничен памятью видеокарты, поэтому чем лучше gpu, тем больше может быть batch_size. \n",
        "\n",
        "Примерное максимальное значение можно найти быстрым перебором. Если появляется ошибка, то слишком большой batch_size, а если обучается, то можно попробовать поставить побольше."
      ]
    },
    {
      "cell_type": "markdown",
      "metadata": {
        "id": "-H7FC_uYVhrY"
      },
      "source": [
        "## а) конкатенировать эмбединги в один большой эмбединг"
      ]
    },
    {
      "cell_type": "code",
      "metadata": {
        "id": "i8TMtISOaXhP"
      },
      "source": [
        "class Clf(nn.Module):\n",
        "    \n",
        "    def __init__(self, vocab_size, embedding_dim, output_dim):\n",
        "        \n",
        "        super().__init__()          \n",
        "        self.embedding = nn.Embedding(vocab_size, embedding_dim)\n",
        "        self.flatten = nn.Flatten() # вместо усреднения склеим все в 1 вектор\n",
        "        self.fc = nn.Linear(embedding_dim*MAX_LEN, output_dim) # размер склееного вектора - размер эмбединга на MAX_LEN\n",
        "        self.act = nn.Sigmoid() # активацию менять даже не пришлось, так как у нас бинарная классификация\n",
        "                                # если классов больше 2, то нужно поставить nn.Softmax()\n",
        "        \n",
        "    def forward(self, text):\n",
        "        \n",
        "        embedded = self.embedding(text)   \n",
        "        hidden = self.flatten(embedded)\n",
        "        dense_outputs=self.fc(hidden)\n",
        "        outputs=self.act(dense_outputs)\n",
        "        \n",
        "        return outputs"
      ],
      "execution_count": 17,
      "outputs": []
    },
    {
      "cell_type": "markdown",
      "metadata": {
        "id": "p6kofu3DaXhQ"
      },
      "source": [
        "Немного перепишем функции тренировки и обучения, чтобы еще и accuracy посчитать"
      ]
    },
    {
      "cell_type": "code",
      "metadata": {
        "id": "OEZmlTr8aXhQ"
      },
      "source": [
        "def binary_accuracy(preds, y):\n",
        "    rounded_preds = torch.round(preds)\n",
        "    \n",
        "    correct = (rounded_preds == y).float() \n",
        "    acc = correct.sum() / len(correct)\n",
        "    return acc\n",
        "\n",
        "\n",
        "def train(model, iterator, optimizer, criterion, print_every=1000):\n",
        "    \n",
        "    epoch_loss = 0\n",
        "    epoch_acc = 0\n",
        "    \n",
        "    model.train()  \n",
        "\n",
        "    for i, (texts, ys) in enumerate(iterator):\n",
        "        \n",
        "        optimizer.zero_grad()   \n",
        "        predictions = model(texts.to(device)).squeeze()  \n",
        "        loss = criterion(predictions.float(), ys.to(device).float())        \n",
        "        acc = binary_accuracy(predictions.float(), ys.to(device).float())\n",
        "        loss.backward()     \n",
        "        \n",
        "        optimizer.step()      \n",
        "        \n",
        "        #лосс и еще и метрика теперь\n",
        "        epoch_loss += loss.item()  \n",
        "        epoch_acc += acc.item()\n",
        "        \n",
        "        if not (i+1) % print_every:\n",
        "            print(f'Loss: {epoch_loss/i}; Accuracy: {epoch_acc/i}')\n",
        "        \n",
        "    return epoch_acc / len(iterator)\n",
        "\n",
        "\n",
        "def evaluate(model, iterator, criterion):\n",
        "    \n",
        "    epoch_loss = 0\n",
        "    epoch_acc = 0\n",
        "    \n",
        "    model.eval()  \n",
        "    with torch.no_grad():\n",
        "        for texts, ys in iterator:   \n",
        "\n",
        "            predictions = model(texts.to(device)).squeeze()  \n",
        "            loss = criterion(predictions.float(), ys.to(device).float())        \n",
        "            acc = binary_accuracy(predictions.float(), ys.to(device).float())\n",
        "\n",
        "            epoch_loss += loss.item()  \n",
        "            epoch_acc += acc.item()\n",
        "            \n",
        "    return epoch_acc / len(iterator)"
      ],
      "execution_count": 18,
      "outputs": []
    },
    {
      "cell_type": "markdown",
      "metadata": {
        "id": "yCnCbVZXYY4k"
      },
      "source": [
        "Тут ниже я попробовала размер эмбеддингов заменить с 30 на 50, но от этого стало сильно дольше работать."
      ]
    },
    {
      "cell_type": "code",
      "metadata": {
        "id": "I_k2AUdYaXhQ"
      },
      "source": [
        "import torch.optim as optim\n",
        "\n",
        "device = torch.device('cuda' if torch.cuda.is_available() else 'cpu')  \n",
        "model = Clf(len(word2id), 50, 1)\n",
        "\n",
        "optimizer = optim.Adam(model.parameters())\n",
        "criterion = nn.BCELoss() # другой лосс - Binary cross-entropy\n",
        "\n",
        "model = model.to(device)\n",
        "criterion = criterion.to(device)"
      ],
      "execution_count": 20,
      "outputs": []
    },
    {
      "cell_type": "code",
      "metadata": {
        "colab": {
          "base_uri": "https://localhost:8080/"
        },
        "id": "hkUVY2APaXhR",
        "outputId": "07949d3e-1731-4b96-8b93-736788e3f4c2"
      },
      "source": [
        "accs = []\n",
        "accs_eval = []\n",
        "for i in range(3):\n",
        "    print(i)\n",
        "    accs.append(train(model, training_generator, optimizer, criterion))\n",
        "    accs_eval.append(evaluate(model, valid_generator, criterion))"
      ],
      "execution_count": 21,
      "outputs": [
        {
          "output_type": "stream",
          "text": [
            "0\n",
            "Loss: 0.1776680957984638; Accuracy: 0.942262575075075\n",
            "Loss: 0.16283486317796608; Accuracy: 0.9444233835667833\n",
            "Loss: 0.15411014943847898; Accuracy: 0.9461304809936646\n",
            "Loss: 0.14870309289968678; Accuracy: 0.947175270380095\n",
            "1\n",
            "Loss: 0.12321026386829229; Accuracy: 0.954247215965966\n",
            "Loss: 0.12386080913204679; Accuracy: 0.953357538144072\n",
            "Loss: 0.12315019203841229; Accuracy: 0.953346427975992\n",
            "Loss: 0.12282461221403228; Accuracy: 0.9533467351212803\n",
            "2\n",
            "Loss: 0.11709755341390948; Accuracy: 0.9561553741241241\n",
            "Loss: 0.11786802789161896; Accuracy: 0.9553077319909955\n",
            "Loss: 0.11773928019822777; Accuracy: 0.9551217593364455\n",
            "Loss: 0.11764931901041106; Accuracy: 0.955051262815704\n"
          ],
          "name": "stdout"
        }
      ]
    },
    {
      "cell_type": "markdown",
      "metadata": {
        "id": "Sx7DpfGiaXhR"
      },
      "source": [
        "это тоже нормальный график, но тут acc должна расти"
      ]
    },
    {
      "cell_type": "code",
      "metadata": {
        "colab": {
          "base_uri": "https://localhost:8080/",
          "height": 295
        },
        "id": "AxDeDEzPaXhR",
        "outputId": "414d7e00-3acf-4a64-9c4e-42456ad204e7"
      },
      "source": [
        "plt.plot(np.sqrt(accs))\n",
        "plt.plot(np.sqrt(accs_eval))\n",
        "plt.title('model Accuracy')\n",
        "plt.ylabel('Acc')\n",
        "plt.xlabel('epoch')\n",
        "plt.legend(['train', 'val'], loc='upper left')\n",
        "plt.show()"
      ],
      "execution_count": 22,
      "outputs": [
        {
          "output_type": "display_data",
          "data": {
            "image/png": "[encoded data removed]",
            "text/plain": [
              "<Figure size 432x288 with 1 Axes>"
            ]
          },
          "metadata": {
            "tags": [],
            "needs_background": "light"
          }
        }
      ]
    },
    {
      "cell_type": "code",
      "metadata": {
        "id": "bmqLWOqHaXhS"
      },
      "source": [
        "preds = []\n",
        "targets = []\n",
        "for texts, ys in valid_generator:\n",
        "    preds += model(texts.to(device)).squeeze().detach().to('cpu').numpy().tolist()\n",
        "    targets += ys.numpy().tolist()"
      ],
      "execution_count": 23,
      "outputs": []
    },
    {
      "cell_type": "markdown",
      "metadata": {
        "id": "EORL99h8aXhS"
      },
      "source": [
        "Можно вытащить предикты и посчитать все через sklearn"
      ]
    },
    {
      "cell_type": "code",
      "metadata": {
        "id": "bv3UXFO-aXhS"
      },
      "source": [
        "from sklearn.metrics import classification_report"
      ],
      "execution_count": 24,
      "outputs": []
    },
    {
      "cell_type": "code",
      "metadata": {
        "colab": {
          "base_uri": "https://localhost:8080/"
        },
        "id": "I6s8cUOhaXhT",
        "outputId": "53df410f-7489-42f0-ca8c-15ce2c01565c"
      },
      "source": [
        "# можно подбирать порог для отнесения к токсичному классу\n",
        "print(classification_report(targets, (np.array(preds) > 0.5).astype(int)))"
      ],
      "execution_count": 25,
      "outputs": [
        {
          "output_type": "stream",
          "text": [
            "              precision    recall  f1-score   support\n",
            "\n",
            "         0.0       0.96      0.99      0.98     61365\n",
            "         1.0       0.73      0.38      0.50      3942\n",
            "\n",
            "    accuracy                           0.95     65307\n",
            "   macro avg       0.85      0.68      0.74     65307\n",
            "weighted avg       0.95      0.95      0.95     65307\n",
            "\n"
          ],
          "name": "stdout"
        }
      ]
    },
    {
      "cell_type": "markdown",
      "metadata": {
        "id": "CBlDOivAZ4XN"
      },
      "source": [
        "Короче на размере 50 вместо 30 качество ухудшилось, а время работы увеличилось. Вернем 30 и будем сравнивать другие тактики работы с эмбеддингами с версией на 30"
      ]
    },
    {
      "cell_type": "code",
      "metadata": {
        "id": "sQXnHqoLaRHr"
      },
      "source": [
        "import torch.optim as optim\n",
        "\n",
        "device = torch.device('cuda' if torch.cuda.is_available() else 'cpu')  \n",
        "model = Clf(len(word2id), 30, 1)\n",
        "\n",
        "optimizer = optim.Adam(model.parameters())\n",
        "criterion = nn.BCELoss() # другой лосс - Binary cross-entropy\n",
        "\n",
        "model = model.to(device)\n",
        "criterion = criterion.to(device)"
      ],
      "execution_count": 26,
      "outputs": []
    },
    {
      "cell_type": "code",
      "metadata": {
        "colab": {
          "base_uri": "https://localhost:8080/"
        },
        "id": "KJJnmHMsaTAj",
        "outputId": "00cdbc90-027e-4708-8901-63ddbc33879a"
      },
      "source": [
        "accs = []\n",
        "accs_eval = []\n",
        "for i in range(3):\n",
        "    print(i)\n",
        "    accs.append(train(model, training_generator, optimizer, criterion))\n",
        "    accs_eval.append(evaluate(model, valid_generator, criterion))"
      ],
      "execution_count": 27,
      "outputs": [
        {
          "output_type": "stream",
          "text": [
            "0\n",
            "Loss: 0.18039031715334594; Accuracy: 0.9420005943443444\n",
            "Loss: 0.16629926323995045; Accuracy: 0.9435928901950975\n",
            "Loss: 0.1569733071703341; Accuracy: 0.9452825420973658\n",
            "Loss: 0.15120126987139296; Accuracy: 0.9464328972868217\n",
            "1\n",
            "Loss: 0.12405947840831301; Accuracy: 0.9540321571571572\n",
            "Loss: 0.12448091128875519; Accuracy: 0.9533634004502252\n",
            "Loss: 0.12364630627831884; Accuracy: 0.9533373103534512\n",
            "Loss: 0.12317286178685778; Accuracy: 0.9533027788197049\n",
            "2\n",
            "Loss: 0.11723728281808449; Accuracy: 0.9560889014014013\n",
            "Loss: 0.11817095800675172; Accuracy: 0.9552373843171585\n",
            "Loss: 0.11800534734903037; Accuracy: 0.9550253730410136\n",
            "Loss: 0.1178776206298228; Accuracy: 0.9549350228182045\n"
          ],
          "name": "stdout"
        }
      ]
    },
    {
      "cell_type": "code",
      "metadata": {
        "colab": {
          "base_uri": "https://localhost:8080/",
          "height": 295
        },
        "id": "54UPy5M9aW0W",
        "outputId": "e41ae1b3-fcd1-4778-b3bc-fc334c54a95d"
      },
      "source": [
        "plt.plot(np.sqrt(accs))\n",
        "plt.plot(np.sqrt(accs_eval))\n",
        "plt.title('model Accuracy')\n",
        "plt.ylabel('Acc')\n",
        "plt.xlabel('epoch')\n",
        "plt.legend(['train', 'val'], loc='upper left')\n",
        "plt.show()"
      ],
      "execution_count": 28,
      "outputs": [
        {
          "output_type": "display_data",
          "data": {
            "image/png": "[encoded data removed]",
            "text/plain": [
              "<Figure size 432x288 with 1 Axes>"
            ]
          },
          "metadata": {
            "tags": [],
            "needs_background": "light"
          }
        }
      ]
    },
    {
      "cell_type": "code",
      "metadata": {
        "id": "lDcFkQ9Faa9G"
      },
      "source": [
        "preds = []\n",
        "targets = []\n",
        "for texts, ys in valid_generator:\n",
        "    preds += model(texts.to(device)).squeeze().detach().to('cpu').numpy().tolist()\n",
        "    targets += ys.numpy().tolist()"
      ],
      "execution_count": 29,
      "outputs": []
    },
    {
      "cell_type": "code",
      "metadata": {
        "colab": {
          "base_uri": "https://localhost:8080/"
        },
        "id": "o_0O1AJuaejk",
        "outputId": "a22d53ef-8b3f-4ce3-d9ee-f5f9fd47edaa"
      },
      "source": [
        "# можно подбирать порог для отнесения к токсичному классу\n",
        "print(classification_report(targets, (np.array(preds) > 0.25).astype(int)))"
      ],
      "execution_count": 43,
      "outputs": [
        {
          "output_type": "stream",
          "text": [
            "              precision    recall  f1-score   support\n",
            "\n",
            "         0.0       0.97      0.98      0.98     61365\n",
            "         1.0       0.65      0.57      0.61      3942\n",
            "\n",
            "    accuracy                           0.96     65307\n",
            "   macro avg       0.81      0.78      0.79     65307\n",
            "weighted avg       0.95      0.96      0.95     65307\n",
            "\n"
          ],
          "name": "stdout"
        }
      ]
    },
    {
      "cell_type": "markdown",
      "metadata": {
        "id": "Yo9ALTyOYqhp"
      },
      "source": [
        "## б) усреднять эмбединги"
      ]
    },
    {
      "cell_type": "code",
      "metadata": {
        "id": "kVxZCgqiZgSc"
      },
      "source": [
        "class Clf_2(nn.Module):\n",
        "    \n",
        "    def __init__(self, vocab_size, embedding_dim, output_dim):\n",
        "        \n",
        "        super().__init__()          \n",
        "        self.embedding = nn.Embedding(vocab_size, embedding_dim)\n",
        "        self.fc = nn.Linear(embedding_dim, output_dim)\n",
        "        self.act = nn.Sigmoid()  # активацию менять даже не пришлось, так как у нас бинарная классификация\n",
        "                                 # если классов больше 2, то нужно поставить nn.Softmax()\n",
        "        \n",
        "    def forward(self, text):\n",
        "        \n",
        "        embedded = self.embedding(text)\n",
        "        hidden = torch.mean(embedded, dim=1)  # усредняем вектора последовательности\n",
        "        dense_outputs = self.fc(hidden)  # пропускаем через полносвязный слой \n",
        "\n",
        "        outputs = self.act(dense_outputs)\n",
        "        \n",
        "        return outputs"
      ],
      "execution_count": 44,
      "outputs": []
    },
    {
      "cell_type": "code",
      "metadata": {
        "id": "4DFyMeeiau5-"
      },
      "source": [
        "model = Clf_2(len(word2id), 30, 1)\n",
        "\n",
        "optimizer = optim.Adam(model.parameters())\n",
        "criterion = nn.BCELoss() # другой лосс - Binary cross-entropy\n",
        "\n",
        "model = model.to(device)\n",
        "criterion = criterion.to(device)"
      ],
      "execution_count": 47,
      "outputs": []
    },
    {
      "cell_type": "code",
      "metadata": {
        "colab": {
          "base_uri": "https://localhost:8080/"
        },
        "id": "VcTO7ZVea2v-",
        "outputId": "4872b50b-fe27-4682-a64f-8757b59830fe"
      },
      "source": [
        "accs = []\n",
        "accs_eval = []\n",
        "for i in range(3):\n",
        "    print(i)\n",
        "    accs.append(train(model, training_generator, optimizer, criterion))\n",
        "    accs_eval.append(evaluate(model, valid_generator, criterion))"
      ],
      "execution_count": 48,
      "outputs": [
        {
          "output_type": "stream",
          "text": [
            "0\n",
            "Loss: 0.22006118522063867; Accuracy: 0.9397522522522522\n",
            "Loss: 0.20636133884656066; Accuracy: 0.9391629408454227\n",
            "Loss: 0.1922101230199395; Accuracy: 0.9399852034011337\n",
            "Loss: 0.18219525115315274; Accuracy: 0.9410868342085521\n",
            "1\n",
            "Loss: 0.1395137432563651; Accuracy: 0.9489919607107107\n",
            "Loss: 0.1387148842237901; Accuracy: 0.9484957322411206\n",
            "Loss: 0.13727002935350519; Accuracy: 0.9487224908302767\n",
            "Loss: 0.1361669961639749; Accuracy: 0.9489393832833208\n",
            "2\n",
            "Loss: 0.12757987094608633; Accuracy: 0.9521943818818819\n",
            "Loss: 0.12801836437921693; Accuracy: 0.9515421773386693\n",
            "Loss: 0.12756969293168918; Accuracy: 0.9515606764754918\n",
            "Loss: 0.12726595363514248; Accuracy: 0.9515796917979494\n"
          ],
          "name": "stdout"
        }
      ]
    },
    {
      "cell_type": "code",
      "metadata": {
        "colab": {
          "base_uri": "https://localhost:8080/",
          "height": 295
        },
        "id": "-t683KEra82Y",
        "outputId": "7dfb78ea-1d6d-4af6-eb31-c07371025338"
      },
      "source": [
        "plt.plot(np.sqrt(accs))\n",
        "plt.plot(np.sqrt(accs_eval))\n",
        "plt.title('model Accuracy')\n",
        "plt.ylabel('Acc')\n",
        "plt.xlabel('epoch')\n",
        "plt.legend(['train', 'val'], loc='upper left')\n",
        "plt.show()"
      ],
      "execution_count": 49,
      "outputs": [
        {
          "output_type": "display_data",
          "data": {
            "image/png": "[encoded data removed]",
            "text/plain": [
              "<Figure size 432x288 with 1 Axes>"
            ]
          },
          "metadata": {
            "tags": [],
            "needs_background": "light"
          }
        }
      ]
    },
    {
      "cell_type": "markdown",
      "metadata": {
        "id": "8HMRL-gxhVqG"
      },
      "source": [
        "Как будто хуже обучается, чем когда скленные вектора. Типа рост на графике заметно медленнее. И финальный лосс больше."
      ]
    },
    {
      "cell_type": "code",
      "metadata": {
        "id": "OkQyUHsubEjc"
      },
      "source": [
        "preds = []\n",
        "targets = []\n",
        "for texts, ys in valid_generator:\n",
        "    preds += model(texts.to(device)).squeeze().detach().to('cpu').numpy().tolist()\n",
        "    targets += ys.numpy().tolist()"
      ],
      "execution_count": 50,
      "outputs": []
    },
    {
      "cell_type": "code",
      "metadata": {
        "colab": {
          "base_uri": "https://localhost:8080/"
        },
        "id": "3B8iyzbgbHGE",
        "outputId": "998bdff0-47ab-4421-99b5-d0f4f7fad987"
      },
      "source": [
        "# можно подбирать порог для отнесения к токсичному классу\n",
        "print(classification_report(targets, (np.array(preds) > 0.25).astype(int)))"
      ],
      "execution_count": 56,
      "outputs": [
        {
          "output_type": "stream",
          "text": [
            "              precision    recall  f1-score   support\n",
            "\n",
            "         0.0       0.98      0.97      0.97     61365\n",
            "         1.0       0.58      0.62      0.60      3942\n",
            "\n",
            "    accuracy                           0.95     65307\n",
            "   macro avg       0.78      0.80      0.79     65307\n",
            "weighted avg       0.95      0.95      0.95     65307\n",
            "\n"
          ],
          "name": "stdout"
        }
      ]
    },
    {
      "cell_type": "markdown",
      "metadata": {
        "id": "pZ1loku-eLmK"
      },
      "source": [
        "## в) складывать эмбединги"
      ]
    },
    {
      "cell_type": "code",
      "metadata": {
        "id": "eUxXGbDYeNzn"
      },
      "source": [
        "class Clf_3(nn.Module):\n",
        "    \n",
        "    def __init__(self, vocab_size, embedding_dim, output_dim):\n",
        "        \n",
        "        super().__init__()          \n",
        "        self.embedding = nn.Embedding(vocab_size, embedding_dim)\n",
        "        self.fc = nn.Linear(embedding_dim, output_dim)\n",
        "        self.act = nn.Sigmoid()  # активацию менять даже не пришлось, так как у нас бинарная классификация\n",
        "                                 # если классов больше 2, то нужно поставить nn.Softmax()\n",
        "        \n",
        "    def forward(self, text):\n",
        "        \n",
        "        embedded = self.embedding(text)\n",
        "        hidden = torch.sum(embedded, dim=1)  # складываем вектора последовательности\n",
        "        dense_outputs = self.fc(hidden)  # пропускаем через полносвязный слой \n",
        "\n",
        "        outputs = self.act(dense_outputs)\n",
        "        \n",
        "        return outputs"
      ],
      "execution_count": 57,
      "outputs": []
    },
    {
      "cell_type": "code",
      "metadata": {
        "id": "lTt6-gMhnhj5"
      },
      "source": [
        "model = Clf_3(len(word2id), 30, 1)\n",
        "\n",
        "optimizer = optim.Adam(model.parameters())\n",
        "criterion = nn.BCELoss() # другой лосс - Binary cross-entropy\n",
        "\n",
        "model = model.to(device)\n",
        "criterion = criterion.to(device)"
      ],
      "execution_count": 58,
      "outputs": []
    },
    {
      "cell_type": "code",
      "metadata": {
        "colab": {
          "base_uri": "https://localhost:8080/"
        },
        "id": "VEEf86X6nmN_",
        "outputId": "fd3f38da-a64e-446e-a567-6983d3df02a8"
      },
      "source": [
        "accs = []\n",
        "accs_eval = []\n",
        "for i in range(3):\n",
        "    print(i)\n",
        "    accs.append(train(model, training_generator, optimizer, criterion))\n",
        "    accs_eval.append(evaluate(model, valid_generator, criterion))"
      ],
      "execution_count": 59,
      "outputs": [
        {
          "output_type": "stream",
          "text": [
            "0\n",
            "Loss: 0.2678946533703708; Accuracy: 0.9363230417917918\n",
            "Loss: 0.21507213521131938; Accuracy: 0.9400930934217109\n",
            "Loss: 0.19261047066813233; Accuracy: 0.9425316251250416\n",
            "Loss: 0.17943333448838908; Accuracy: 0.9441667057389347\n",
            "1\n",
            "Loss: 0.13009940340622766; Accuracy: 0.952906031031031\n",
            "Loss: 0.13045532754871653; Accuracy: 0.9522124343421711\n",
            "Loss: 0.12995415801886082; Accuracy: 0.9520530280926975\n",
            "Loss: 0.1292557249194564; Accuracy: 0.9522019176669168\n",
            "2\n",
            "Loss: 0.12375891634129786; Accuracy: 0.9547555367867868\n",
            "Loss: 0.1248984352469802; Accuracy: 0.9537561749624812\n",
            "Loss: 0.12487489219087886; Accuracy: 0.9534975200066689\n",
            "Loss: 0.12459089453386855; Accuracy: 0.9535176762940735\n"
          ],
          "name": "stdout"
        }
      ]
    },
    {
      "cell_type": "markdown",
      "metadata": {
        "id": "enmIm5AMq00s"
      },
      "source": [
        "Получается, что это чуть лучше, чем усреднять эмбеддинги, но всё еще хуже, чем склеивать в один большой."
      ]
    },
    {
      "cell_type": "code",
      "metadata": {
        "colab": {
          "base_uri": "https://localhost:8080/",
          "height": 295
        },
        "id": "aJH2VOflnn_m",
        "outputId": "ffbf2e2c-564b-43e0-f231-ec787eda767f"
      },
      "source": [
        "plt.plot(np.sqrt(accs))\n",
        "plt.plot(np.sqrt(accs_eval))\n",
        "plt.title('model Accuracy')\n",
        "plt.ylabel('Acc')\n",
        "plt.xlabel('epoch')\n",
        "plt.legend(['train', 'val'], loc='upper left')\n",
        "plt.show()"
      ],
      "execution_count": 60,
      "outputs": [
        {
          "output_type": "display_data",
          "data": {
            "image/png": "[encoded data removed]",
            "text/plain": [
              "<Figure size 432x288 with 1 Axes>"
            ]
          },
          "metadata": {
            "tags": [],
            "needs_background": "light"
          }
        }
      ]
    },
    {
      "cell_type": "code",
      "metadata": {
        "id": "xTKTVYXanq8p"
      },
      "source": [
        "preds = []\n",
        "targets = []\n",
        "for texts, ys in valid_generator:\n",
        "    preds += model(texts.to(device)).squeeze().detach().to('cpu').numpy().tolist()\n",
        "    targets += ys.numpy().tolist()"
      ],
      "execution_count": 61,
      "outputs": []
    },
    {
      "cell_type": "code",
      "metadata": {
        "colab": {
          "base_uri": "https://localhost:8080/"
        },
        "id": "EzSAl2Wknvzu",
        "outputId": "8ae3e945-e029-41f2-88e8-9897511dd3dd"
      },
      "source": [
        "# можно подбирать порог для отнесения к токсичному классу\n",
        "print(classification_report(targets, (np.array(preds) > 0.25).astype(int)))"
      ],
      "execution_count": 62,
      "outputs": [
        {
          "output_type": "stream",
          "text": [
            "              precision    recall  f1-score   support\n",
            "\n",
            "         0.0       0.98      0.96      0.97     61365\n",
            "         1.0       0.53      0.72      0.61      3942\n",
            "\n",
            "    accuracy                           0.94     65307\n",
            "   macro avg       0.75      0.84      0.79     65307\n",
            "weighted avg       0.95      0.94      0.95     65307\n",
            "\n"
          ],
          "name": "stdout"
        }
      ]
    },
    {
      "cell_type": "markdown",
      "metadata": {
        "id": "u4RXzig1rOtd"
      },
      "source": [
        "# сразу две предобученные эмбединг модели\n",
        "\n",
        "Значит, эмбеддинги стоит еще и зафиксировать, чтобы они потом в процессе обучения самой нейронки не разошлись."
      ]
    },
    {
      "cell_type": "code",
      "metadata": {
        "id": "60OVIkTyv-Vo"
      },
      "source": [
        "import gensim"
      ],
      "execution_count": 63,
      "outputs": []
    },
    {
      "cell_type": "markdown",
      "metadata": {
        "id": "RB1bLq_lxBwR"
      },
      "source": [
        "Обучаю фастекст модель:"
      ]
    },
    {
      "cell_type": "code",
      "metadata": {
        "id": "bJnGoG_Wwh8D"
      },
      "source": [
        "texts = quora.sample(frac=0.1).question_text.apply(preprocess).tolist()"
      ],
      "execution_count": 64,
      "outputs": []
    },
    {
      "cell_type": "code",
      "metadata": {
        "colab": {
          "base_uri": "https://localhost:8080/"
        },
        "id": "o49pmp2kxWjx",
        "outputId": "ac6b636c-5c45-441e-f0e6-718485bf7ff9"
      },
      "source": [
        "%%time\n",
        "ft_1 = gensim.models.FastText(texts, size=100, iter=10)"
      ],
      "execution_count": 69,
      "outputs": [
        {
          "output_type": "stream",
          "text": [
            "CPU times: user 1min 37s, sys: 445 ms, total: 1min 37s\n",
            "Wall time: 53.3 s\n"
          ],
          "name": "stdout"
        }
      ]
    },
    {
      "cell_type": "code",
      "metadata": {
        "colab": {
          "base_uri": "https://localhost:8080/",
          "height": 35
        },
        "id": "T4os7cCsyQCq",
        "outputId": "5fd85705-f7a9-4805-bd74-dd9dcbea0981"
      },
      "source": [
        "# проверяю что вектора обучились\n",
        "ft_1.wv.most_similar('learn')[0][0]"
      ],
      "execution_count": 78,
      "outputs": [
        {
          "output_type": "execute_result",
          "data": {
            "application/vnd.google.colaboratory.intrinsic+json": {
              "type": "string"
            },
            "text/plain": [
              "'learnt'"
            ]
          },
          "metadata": {
            "tags": []
          },
          "execution_count": 78
        }
      ]
    },
    {
      "cell_type": "code",
      "metadata": {
        "id": "UBVIqtfj1R5l"
      },
      "source": [
        "weights_1 = np.zeros((len(word2id), 100))\n",
        "\n",
        "for word, i in word2id.items():\n",
        "    # вектор паддинга оставим нулевым\n",
        "    if word == 'PAD':\n",
        "        continue\n",
        "    \n",
        "    try:\n",
        "        weights_1[i] = ft_1.wv[word]\n",
        "    except KeyError:\n",
        "        # для слов, которых нет в модели тоже возьмем какой-то  рандомный вектор\n",
        "        weights_1[i] = ft_1.wv['ajpjmpzcv']"
      ],
      "execution_count": 83,
      "outputs": []
    },
    {
      "cell_type": "code",
      "metadata": {
        "colab": {
          "base_uri": "https://localhost:8080/"
        },
        "id": "KnaViDtUyzgn",
        "outputId": "938176a3-4a93-48c5-de06-b079d953d153"
      },
      "source": [
        "%%time\n",
        "w2v_2 = gensim.models.Word2Vec(texts, size=100, iter=10, min_count=3)"
      ],
      "execution_count": 75,
      "outputs": [
        {
          "output_type": "stream",
          "text": [
            "CPU times: user 37 s, sys: 295 ms, total: 37.3 s\n",
            "Wall time: 22.5 s\n"
          ],
          "name": "stdout"
        }
      ]
    },
    {
      "cell_type": "code",
      "metadata": {
        "colab": {
          "base_uri": "https://localhost:8080/"
        },
        "id": "9fXv4ukVy8Mb",
        "outputId": "19c51f2e-58a3-46e0-9d61-c1aeb1a9a314"
      },
      "source": [
        "# проверяю что вектора обучились\n",
        "w2v_2.wv.most_similar('learn')"
      ],
      "execution_count": 76,
      "outputs": [
        {
          "output_type": "execute_result",
          "data": {
            "text/plain": [
              "[('study', 0.7026283740997314),\n",
              " ('learning', 0.6870408058166504),\n",
              " ('read', 0.6677531003952026),\n",
              " ('teach', 0.6672182679176331),\n",
              " ('programming', 0.6544222831726074),\n",
              " ('understand', 0.6402304172515869),\n",
              " ('practice', 0.6335183382034302),\n",
              " ('publish', 0.6226884126663208),\n",
              " ('approach', 0.6184325218200684),\n",
              " ('speak', 0.6051572561264038)]"
            ]
          },
          "metadata": {
            "tags": []
          },
          "execution_count": 76
        }
      ]
    },
    {
      "cell_type": "code",
      "metadata": {
        "id": "VFaOAZC84Pbn"
      },
      "source": [
        "weights_2 = np.zeros((len(word2id), 100))\n",
        "\n",
        "for word, i in word2id.items():\n",
        "    # вектор паддинга оставим нулевым\n",
        "    if word == 'PAD':\n",
        "        continue\n",
        "    try:\n",
        "        weights_2[i] = w2v_2.wv[word]\n",
        "    except KeyError:\n",
        "        # для слов, которых нет в модели тоже возьмем какой-то  рандомный вектор\n",
        "        weights_2[i] = w2v_2.wv['']"
      ],
      "execution_count": 86,
      "outputs": []
    },
    {
      "cell_type": "markdown",
      "metadata": {
        "id": "rwdtrcFi0Tif"
      },
      "source": [
        "Теперь создаю нейронку:"
      ]
    },
    {
      "cell_type": "code",
      "metadata": {
        "id": "1cpjh6Sm0R4h"
      },
      "source": [
        "class Clf_4(nn.Module):\n",
        "    \n",
        "    def __init__(self, vocab_size, embedding_dim, embeddings_weights_1, embeddings_weights_2, output_dim):\n",
        "        \n",
        "        super().__init__()          \n",
        "        self.embedding_1 = nn.Embedding(vocab_size, embedding_dim)\n",
        "        self.embedding_1.from_pretrained(torch.tensor(embeddings_weights_1), freeze=True)\n",
        "        \n",
        "        self.embedding_2 = nn.Embedding(vocab_size, embedding_dim)\n",
        "        self.embedding_2.from_pretrained(torch.tensor(embeddings_weights_2), freeze=True)\n",
        "\n",
        "        self.fc = nn.Linear(2 * embedding_dim, output_dim)\n",
        "        self.act = nn.Sigmoid()  # активацию менять даже не пришлось, так как у нас бинарная классификация\n",
        "                                 # если классов больше 2, то нужно поставить nn.Softmax()\n",
        "        \n",
        "    def forward(self, text):\n",
        "        \n",
        "        embedded_1 = self.embedding_1(text)\n",
        "        embedded_2 = self.embedding_2(text)\n",
        "        hidden_1 = torch.mean(embedded_1, dim=1)  # усредняем вектора последовательности\n",
        "        hidden_2 = torch.mean(embedded_2, dim=1)  # усредняем вектора последовательности\n",
        "        hidden = torch.cat((hidden_1, hidden_2), dim=1)\n",
        "\n",
        "        dense_outputs = self.fc(hidden)  # пропускаем через полносвязный слой \n",
        "\n",
        "        outputs = self.act(dense_outputs)\n",
        "        \n",
        "        return outputs"
      ],
      "execution_count": 111,
      "outputs": []
    },
    {
      "cell_type": "code",
      "metadata": {
        "id": "swg6bPkZ4Mi7"
      },
      "source": [
        "model = Clf_4(len(word2id), 100, weights_1, weights_2, 1)\n",
        "\n",
        "optimizer = optim.Adam(model.parameters())\n",
        "criterion = nn.BCELoss() # другой лосс - Binary cross-entropy\n",
        "\n",
        "model = model.to(device)\n",
        "criterion = criterion.to(device)"
      ],
      "execution_count": 112,
      "outputs": []
    },
    {
      "cell_type": "code",
      "metadata": {
        "colab": {
          "base_uri": "https://localhost:8080/"
        },
        "id": "AsNa7sUr4haA",
        "outputId": "e9c41979-b18e-466a-f53c-a998010cb753"
      },
      "source": [
        "accs = []\n",
        "accs_eval = []\n",
        "for i in range(3):\n",
        "    print(i)\n",
        "    accs.append(train(model, training_generator, optimizer, criterion))\n",
        "    accs_eval.append(evaluate(model, valid_generator, criterion))"
      ],
      "execution_count": 113,
      "outputs": [
        {
          "output_type": "stream",
          "text": [
            "0\n",
            "Loss: 0.21435540126966643; Accuracy: 0.9380747935435435\n",
            "Loss: 0.19051751737418088; Accuracy: 0.9398527388694348\n",
            "Loss: 0.17625402944878604; Accuracy: 0.9417683498666222\n",
            "Loss: 0.16718523003296962; Accuracy: 0.9432651131532883\n",
            "1\n",
            "Loss: 0.1298579182792772; Accuracy: 0.9518385573073073\n",
            "Loss: 0.12962184758999457; Accuracy: 0.951286189969985\n",
            "Loss: 0.12873911111925831; Accuracy: 0.9514004668222741\n",
            "Loss: 0.1280933731664312; Accuracy: 0.9514282867591898\n",
            "2\n",
            "Loss: 0.12188042552621516; Accuracy: 0.9541611924424425\n",
            "Loss: 0.12247269206669642; Accuracy: 0.9534552432466233\n",
            "Loss: 0.12225767714445016; Accuracy: 0.9533659657385796\n",
            "Loss: 0.12210754344249612; Accuracy: 0.9533262221805452\n"
          ],
          "name": "stdout"
        }
      ]
    },
    {
      "cell_type": "code",
      "metadata": {
        "colab": {
          "base_uri": "https://localhost:8080/",
          "height": 295
        },
        "id": "8wGma1XaBby-",
        "outputId": "89c64f9b-1c11-4861-db2d-afb69442fb56"
      },
      "source": [
        "plt.plot(np.sqrt(accs))\n",
        "plt.plot(np.sqrt(accs_eval))\n",
        "plt.title('model Accuracy')\n",
        "plt.ylabel('Acc')\n",
        "plt.xlabel('epoch')\n",
        "plt.legend(['train', 'val'], loc='upper left')\n",
        "plt.show()"
      ],
      "execution_count": 114,
      "outputs": [
        {
          "output_type": "display_data",
          "data": {
            "image/png": "[encoded data removed]",
            "text/plain": [
              "<Figure size 432x288 with 1 Axes>"
            ]
          },
          "metadata": {
            "tags": [],
            "needs_background": "light"
          }
        }
      ]
    },
    {
      "cell_type": "code",
      "metadata": {
        "id": "kmz3hfczBb6H"
      },
      "source": [
        "preds = []\n",
        "targets = []\n",
        "for texts, ys in valid_generator:\n",
        "    preds += model(texts.to(device)).squeeze().detach().to('cpu').numpy().tolist()\n",
        "    targets += ys.numpy().tolist()"
      ],
      "execution_count": 115,
      "outputs": []
    },
    {
      "cell_type": "code",
      "metadata": {
        "colab": {
          "base_uri": "https://localhost:8080/"
        },
        "id": "PQsTZpN7BcAU",
        "outputId": "1d84abe2-1ef9-4157-d6cc-15a710c138f3"
      },
      "source": [
        "# можно подбирать порог для отнесения к токсичному классу\n",
        "print(classification_report(targets, (np.array(preds) > 0.25).astype(int)))"
      ],
      "execution_count": 116,
      "outputs": [
        {
          "output_type": "stream",
          "text": [
            "              precision    recall  f1-score   support\n",
            "\n",
            "         0.0       0.98      0.97      0.97     61365\n",
            "         1.0       0.60      0.62      0.61      3942\n",
            "\n",
            "    accuracy                           0.95     65307\n",
            "   macro avg       0.79      0.80      0.79     65307\n",
            "weighted avg       0.95      0.95      0.95     65307\n",
            "\n"
          ],
          "name": "stdout"
        }
      ]
    },
    {
      "cell_type": "markdown",
      "metadata": {
        "id": "SJNRdDCuaXhU"
      },
      "source": [
        " "
      ]
    }
  ]
}